{
  "nbformat": 4,
  "nbformat_minor": 0,
  "metadata": {
    "colab": {
      "provenance": [],
      "gpuType": "T4",
      "include_colab_link": true
    },
    "kernelspec": {
      "name": "python3",
      "display_name": "Python 3"
    },
    "language_info": {
      "name": "python"
    },
    "accelerator": "GPU"
  },
  "cells": [
    {
      "cell_type": "markdown",
      "metadata": {
        "id": "view-in-github",
        "colab_type": "text"
      },
      "source": [
        "<a href=\"https://colab.research.google.com/github/NehaParveen03/my_first_report/blob/main/08thMarch_RAG_Dev.ipynb\" target=\"_parent\"><img src=\"https://colab.research.google.com/assets/colab-badge.svg\" alt=\"Open In Colab\"/></a>"
      ]
    },
    {
      "cell_type": "markdown",
      "source": [
        "# **Retrieval Augmented Generation using `gpt-4o-mini`**"
      ],
      "metadata": {
        "id": "DAobVv_2BuPx"
      }
    },
    {
      "cell_type": "markdown",
      "source": [
        "### **Mounting the Drive**"
      ],
      "metadata": {
        "id": "6Gd0bQTlE__Y"
      }
    },
    {
      "cell_type": "code",
      "execution_count": null,
      "metadata": {
        "colab": {
          "base_uri": "https://localhost:8080/"
        },
        "id": "_yFOIhVDBgAV",
        "outputId": "3d4971e4-48c5-4442-8056-cc9c935d33cf"
      },
      "outputs": [
        {
          "output_type": "stream",
          "name": "stdout",
          "text": [
            "Mounted at /content/drive\n"
          ]
        }
      ],
      "source": [
        "from google.colab import drive\n",
        "drive.mount(\"/content/drive\")"
      ]
    },
    {
      "cell_type": "markdown",
      "source": [
        "### **Types of RAG**\n",
        "* **Basic RAG**\n",
        "* **Advanced RAG**\n",
        "  * **Pre-retrieval Query Rewriting**\n",
        "* **Agentic RAG**"
      ],
      "metadata": {
        "id": "RFE0LlBnFMLD"
      }
    },
    {
      "cell_type": "markdown",
      "source": [
        "## **Basic RAG using GPT-4o-mini**"
      ],
      "metadata": {
        "id": "RJcolRuEGhEY"
      }
    },
    {
      "cell_type": "markdown",
      "source": [
        "### **1. Requirement Phase**"
      ],
      "metadata": {
        "id": "rGJWsJZSHILO"
      }
    },
    {
      "cell_type": "code",
      "source": [
        "!pip install langchain-community"
      ],
      "metadata": {
        "colab": {
          "base_uri": "https://localhost:8080/"
        },
        "id": "CGpEAS8IFIDz",
        "outputId": "b165a4c0-55c0-4fc8-f6ff-86d716f7531d"
      },
      "execution_count": null,
      "outputs": [
        {
          "output_type": "stream",
          "name": "stdout",
          "text": [
            "Collecting langchain-community\n",
            "  Downloading langchain_community-0.3.19-py3-none-any.whl.metadata (2.4 kB)\n",
            "Collecting langchain-core<1.0.0,>=0.3.41 (from langchain-community)\n",
            "  Downloading langchain_core-0.3.43-py3-none-any.whl.metadata (5.9 kB)\n",
            "Collecting langchain<1.0.0,>=0.3.20 (from langchain-community)\n",
            "  Downloading langchain-0.3.20-py3-none-any.whl.metadata (7.7 kB)\n",
            "Requirement already satisfied: SQLAlchemy<3,>=1.4 in /usr/local/lib/python3.11/dist-packages (from langchain-community) (2.0.38)\n",
            "Requirement already satisfied: requests<3,>=2 in /usr/local/lib/python3.11/dist-packages (from langchain-community) (2.32.3)\n",
            "Requirement already satisfied: PyYAML>=5.3 in /usr/local/lib/python3.11/dist-packages (from langchain-community) (6.0.2)\n",
            "Requirement already satisfied: aiohttp<4.0.0,>=3.8.3 in /usr/local/lib/python3.11/dist-packages (from langchain-community) (3.11.13)\n",
            "Requirement already satisfied: tenacity!=8.4.0,<10,>=8.1.0 in /usr/local/lib/python3.11/dist-packages (from langchain-community) (9.0.0)\n",
            "Collecting dataclasses-json<0.7,>=0.5.7 (from langchain-community)\n",
            "  Downloading dataclasses_json-0.6.7-py3-none-any.whl.metadata (25 kB)\n",
            "Collecting pydantic-settings<3.0.0,>=2.4.0 (from langchain-community)\n",
            "  Downloading pydantic_settings-2.8.1-py3-none-any.whl.metadata (3.5 kB)\n",
            "Requirement already satisfied: langsmith<0.4,>=0.1.125 in /usr/local/lib/python3.11/dist-packages (from langchain-community) (0.3.11)\n",
            "Collecting httpx-sse<1.0.0,>=0.4.0 (from langchain-community)\n",
            "  Downloading httpx_sse-0.4.0-py3-none-any.whl.metadata (9.0 kB)\n",
            "Requirement already satisfied: numpy<3,>=1.26.2 in /usr/local/lib/python3.11/dist-packages (from langchain-community) (1.26.4)\n",
            "Requirement already satisfied: aiohappyeyeballs>=2.3.0 in /usr/local/lib/python3.11/dist-packages (from aiohttp<4.0.0,>=3.8.3->langchain-community) (2.4.6)\n",
            "Requirement already satisfied: aiosignal>=1.1.2 in /usr/local/lib/python3.11/dist-packages (from aiohttp<4.0.0,>=3.8.3->langchain-community) (1.3.2)\n",
            "Requirement already satisfied: attrs>=17.3.0 in /usr/local/lib/python3.11/dist-packages (from aiohttp<4.0.0,>=3.8.3->langchain-community) (25.1.0)\n",
            "Requirement already satisfied: frozenlist>=1.1.1 in /usr/local/lib/python3.11/dist-packages (from aiohttp<4.0.0,>=3.8.3->langchain-community) (1.5.0)\n",
            "Requirement already satisfied: multidict<7.0,>=4.5 in /usr/local/lib/python3.11/dist-packages (from aiohttp<4.0.0,>=3.8.3->langchain-community) (6.1.0)\n",
            "Requirement already satisfied: propcache>=0.2.0 in /usr/local/lib/python3.11/dist-packages (from aiohttp<4.0.0,>=3.8.3->langchain-community) (0.3.0)\n",
            "Requirement already satisfied: yarl<2.0,>=1.17.0 in /usr/local/lib/python3.11/dist-packages (from aiohttp<4.0.0,>=3.8.3->langchain-community) (1.18.3)\n",
            "Collecting marshmallow<4.0.0,>=3.18.0 (from dataclasses-json<0.7,>=0.5.7->langchain-community)\n",
            "  Downloading marshmallow-3.26.1-py3-none-any.whl.metadata (7.3 kB)\n",
            "Collecting typing-inspect<1,>=0.4.0 (from dataclasses-json<0.7,>=0.5.7->langchain-community)\n",
            "  Downloading typing_inspect-0.9.0-py3-none-any.whl.metadata (1.5 kB)\n",
            "Requirement already satisfied: langchain-text-splitters<1.0.0,>=0.3.6 in /usr/local/lib/python3.11/dist-packages (from langchain<1.0.0,>=0.3.20->langchain-community) (0.3.6)\n",
            "Requirement already satisfied: pydantic<3.0.0,>=2.7.4 in /usr/local/lib/python3.11/dist-packages (from langchain<1.0.0,>=0.3.20->langchain-community) (2.10.6)\n",
            "Requirement already satisfied: jsonpatch<2.0,>=1.33 in /usr/local/lib/python3.11/dist-packages (from langchain-core<1.0.0,>=0.3.41->langchain-community) (1.33)\n",
            "Requirement already satisfied: packaging<25,>=23.2 in /usr/local/lib/python3.11/dist-packages (from langchain-core<1.0.0,>=0.3.41->langchain-community) (24.2)\n",
            "Requirement already satisfied: typing-extensions>=4.7 in /usr/local/lib/python3.11/dist-packages (from langchain-core<1.0.0,>=0.3.41->langchain-community) (4.12.2)\n",
            "Requirement already satisfied: httpx<1,>=0.23.0 in /usr/local/lib/python3.11/dist-packages (from langsmith<0.4,>=0.1.125->langchain-community) (0.28.1)\n",
            "Requirement already satisfied: orjson<4.0.0,>=3.9.14 in /usr/local/lib/python3.11/dist-packages (from langsmith<0.4,>=0.1.125->langchain-community) (3.10.15)\n",
            "Requirement already satisfied: requests-toolbelt<2.0.0,>=1.0.0 in /usr/local/lib/python3.11/dist-packages (from langsmith<0.4,>=0.1.125->langchain-community) (1.0.0)\n",
            "Requirement already satisfied: zstandard<0.24.0,>=0.23.0 in /usr/local/lib/python3.11/dist-packages (from langsmith<0.4,>=0.1.125->langchain-community) (0.23.0)\n",
            "Collecting python-dotenv>=0.21.0 (from pydantic-settings<3.0.0,>=2.4.0->langchain-community)\n",
            "  Downloading python_dotenv-1.0.1-py3-none-any.whl.metadata (23 kB)\n",
            "Requirement already satisfied: charset-normalizer<4,>=2 in /usr/local/lib/python3.11/dist-packages (from requests<3,>=2->langchain-community) (3.4.1)\n",
            "Requirement already satisfied: idna<4,>=2.5 in /usr/local/lib/python3.11/dist-packages (from requests<3,>=2->langchain-community) (3.10)\n",
            "Requirement already satisfied: urllib3<3,>=1.21.1 in /usr/local/lib/python3.11/dist-packages (from requests<3,>=2->langchain-community) (2.3.0)\n",
            "Requirement already satisfied: certifi>=2017.4.17 in /usr/local/lib/python3.11/dist-packages (from requests<3,>=2->langchain-community) (2025.1.31)\n",
            "Requirement already satisfied: greenlet!=0.4.17 in /usr/local/lib/python3.11/dist-packages (from SQLAlchemy<3,>=1.4->langchain-community) (3.1.1)\n",
            "Requirement already satisfied: anyio in /usr/local/lib/python3.11/dist-packages (from httpx<1,>=0.23.0->langsmith<0.4,>=0.1.125->langchain-community) (3.7.1)\n",
            "Requirement already satisfied: httpcore==1.* in /usr/local/lib/python3.11/dist-packages (from httpx<1,>=0.23.0->langsmith<0.4,>=0.1.125->langchain-community) (1.0.7)\n",
            "Requirement already satisfied: h11<0.15,>=0.13 in /usr/local/lib/python3.11/dist-packages (from httpcore==1.*->httpx<1,>=0.23.0->langsmith<0.4,>=0.1.125->langchain-community) (0.14.0)\n",
            "Requirement already satisfied: jsonpointer>=1.9 in /usr/local/lib/python3.11/dist-packages (from jsonpatch<2.0,>=1.33->langchain-core<1.0.0,>=0.3.41->langchain-community) (3.0.0)\n",
            "Requirement already satisfied: annotated-types>=0.6.0 in /usr/local/lib/python3.11/dist-packages (from pydantic<3.0.0,>=2.7.4->langchain<1.0.0,>=0.3.20->langchain-community) (0.7.0)\n",
            "Requirement already satisfied: pydantic-core==2.27.2 in /usr/local/lib/python3.11/dist-packages (from pydantic<3.0.0,>=2.7.4->langchain<1.0.0,>=0.3.20->langchain-community) (2.27.2)\n",
            "Collecting mypy-extensions>=0.3.0 (from typing-inspect<1,>=0.4.0->dataclasses-json<0.7,>=0.5.7->langchain-community)\n",
            "  Downloading mypy_extensions-1.0.0-py3-none-any.whl.metadata (1.1 kB)\n",
            "Requirement already satisfied: sniffio>=1.1 in /usr/local/lib/python3.11/dist-packages (from anyio->httpx<1,>=0.23.0->langsmith<0.4,>=0.1.125->langchain-community) (1.3.1)\n",
            "Downloading langchain_community-0.3.19-py3-none-any.whl (2.5 MB)\n",
            "\u001b[2K   \u001b[90m━━━━━━━━━━━━━━━━━━━━━━━━━━━━━━━━━━━━━━━━\u001b[0m \u001b[32m2.5/2.5 MB\u001b[0m \u001b[31m49.8 MB/s\u001b[0m eta \u001b[36m0:00:00\u001b[0m\n",
            "\u001b[?25hDownloading dataclasses_json-0.6.7-py3-none-any.whl (28 kB)\n",
            "Downloading httpx_sse-0.4.0-py3-none-any.whl (7.8 kB)\n",
            "Downloading langchain-0.3.20-py3-none-any.whl (1.0 MB)\n",
            "\u001b[2K   \u001b[90m━━━━━━━━━━━━━━━━━━━━━━━━━━━━━━━━━━━━━━━━\u001b[0m \u001b[32m1.0/1.0 MB\u001b[0m \u001b[31m63.7 MB/s\u001b[0m eta \u001b[36m0:00:00\u001b[0m\n",
            "\u001b[?25hDownloading langchain_core-0.3.43-py3-none-any.whl (415 kB)\n",
            "\u001b[2K   \u001b[90m━━━━━━━━━━━━━━━━━━━━━━━━━━━━━━━━━━━━━━━━\u001b[0m \u001b[32m415.4/415.4 kB\u001b[0m \u001b[31m38.8 MB/s\u001b[0m eta \u001b[36m0:00:00\u001b[0m\n",
            "\u001b[?25hDownloading pydantic_settings-2.8.1-py3-none-any.whl (30 kB)\n",
            "Downloading marshmallow-3.26.1-py3-none-any.whl (50 kB)\n",
            "\u001b[2K   \u001b[90m━━━━━━━━━━━━━━━━━━━━━━━━━━━━━━━━━━━━━━━━\u001b[0m \u001b[32m50.9/50.9 kB\u001b[0m \u001b[31m5.5 MB/s\u001b[0m eta \u001b[36m0:00:00\u001b[0m\n",
            "\u001b[?25hDownloading python_dotenv-1.0.1-py3-none-any.whl (19 kB)\n",
            "Downloading typing_inspect-0.9.0-py3-none-any.whl (8.8 kB)\n",
            "Downloading mypy_extensions-1.0.0-py3-none-any.whl (4.7 kB)\n",
            "Installing collected packages: python-dotenv, mypy-extensions, marshmallow, httpx-sse, typing-inspect, pydantic-settings, dataclasses-json, langchain-core, langchain, langchain-community\n",
            "  Attempting uninstall: langchain-core\n",
            "    Found existing installation: langchain-core 0.3.40\n",
            "    Uninstalling langchain-core-0.3.40:\n",
            "      Successfully uninstalled langchain-core-0.3.40\n",
            "  Attempting uninstall: langchain\n",
            "    Found existing installation: langchain 0.3.19\n",
            "    Uninstalling langchain-0.3.19:\n",
            "      Successfully uninstalled langchain-0.3.19\n",
            "Successfully installed dataclasses-json-0.6.7 httpx-sse-0.4.0 langchain-0.3.20 langchain-community-0.3.19 langchain-core-0.3.43 marshmallow-3.26.1 mypy-extensions-1.0.0 pydantic-settings-2.8.1 python-dotenv-1.0.1 typing-inspect-0.9.0\n"
          ]
        }
      ]
    },
    {
      "cell_type": "code",
      "source": [
        "!pip install langchain_chroma langchain_openai"
      ],
      "metadata": {
        "colab": {
          "base_uri": "https://localhost:8080/",
          "height": 1000
        },
        "id": "Yv7_22q2HRjh",
        "outputId": "e4af9503-2163-4fd2-ac4e-fb390f22d078"
      },
      "execution_count": null,
      "outputs": [
        {
          "output_type": "stream",
          "name": "stdout",
          "text": [
            "Collecting langchain_chroma\n",
            "  Downloading langchain_chroma-0.2.2-py3-none-any.whl.metadata (1.3 kB)\n",
            "Collecting langchain_openai\n",
            "  Downloading langchain_openai-0.3.8-py3-none-any.whl.metadata (2.3 kB)\n",
            "Requirement already satisfied: langchain-core!=0.3.0,!=0.3.1,!=0.3.10,!=0.3.11,!=0.3.12,!=0.3.13,!=0.3.14,!=0.3.2,!=0.3.3,!=0.3.4,!=0.3.5,!=0.3.6,!=0.3.7,!=0.3.8,!=0.3.9,<0.4.0,>=0.2.43 in /usr/local/lib/python3.11/dist-packages (from langchain_chroma) (0.3.43)\n",
            "Requirement already satisfied: numpy<2.0.0,>=1.22.4 in /usr/local/lib/python3.11/dist-packages (from langchain_chroma) (1.26.4)\n",
            "Collecting chromadb!=0.5.10,!=0.5.11,!=0.5.12,!=0.5.4,!=0.5.5,!=0.5.7,!=0.5.9,<0.7.0,>=0.4.0 (from langchain_chroma)\n",
            "  Downloading chromadb-0.6.3-py3-none-any.whl.metadata (6.8 kB)\n",
            "Requirement already satisfied: openai<2.0.0,>=1.58.1 in /usr/local/lib/python3.11/dist-packages (from langchain_openai) (1.61.1)\n",
            "Collecting tiktoken<1,>=0.7 (from langchain_openai)\n",
            "  Downloading tiktoken-0.9.0-cp311-cp311-manylinux_2_17_x86_64.manylinux2014_x86_64.whl.metadata (6.7 kB)\n",
            "Collecting build>=1.0.3 (from chromadb!=0.5.10,!=0.5.11,!=0.5.12,!=0.5.4,!=0.5.5,!=0.5.7,!=0.5.9,<0.7.0,>=0.4.0->langchain_chroma)\n",
            "  Downloading build-1.2.2.post1-py3-none-any.whl.metadata (6.5 kB)\n",
            "Requirement already satisfied: pydantic>=1.9 in /usr/local/lib/python3.11/dist-packages (from chromadb!=0.5.10,!=0.5.11,!=0.5.12,!=0.5.4,!=0.5.5,!=0.5.7,!=0.5.9,<0.7.0,>=0.4.0->langchain_chroma) (2.10.6)\n",
            "Collecting chroma-hnswlib==0.7.6 (from chromadb!=0.5.10,!=0.5.11,!=0.5.12,!=0.5.4,!=0.5.5,!=0.5.7,!=0.5.9,<0.7.0,>=0.4.0->langchain_chroma)\n",
            "  Downloading chroma_hnswlib-0.7.6-cp311-cp311-manylinux_2_17_x86_64.manylinux2014_x86_64.whl.metadata (252 bytes)\n",
            "Collecting fastapi>=0.95.2 (from chromadb!=0.5.10,!=0.5.11,!=0.5.12,!=0.5.4,!=0.5.5,!=0.5.7,!=0.5.9,<0.7.0,>=0.4.0->langchain_chroma)\n",
            "  Downloading fastapi-0.115.11-py3-none-any.whl.metadata (27 kB)\n",
            "Collecting uvicorn>=0.18.3 (from uvicorn[standard]>=0.18.3->chromadb!=0.5.10,!=0.5.11,!=0.5.12,!=0.5.4,!=0.5.5,!=0.5.7,!=0.5.9,<0.7.0,>=0.4.0->langchain_chroma)\n",
            "  Downloading uvicorn-0.34.0-py3-none-any.whl.metadata (6.5 kB)\n",
            "Collecting posthog>=2.4.0 (from chromadb!=0.5.10,!=0.5.11,!=0.5.12,!=0.5.4,!=0.5.5,!=0.5.7,!=0.5.9,<0.7.0,>=0.4.0->langchain_chroma)\n",
            "  Downloading posthog-3.19.0-py2.py3-none-any.whl.metadata (2.9 kB)\n",
            "Requirement already satisfied: typing_extensions>=4.5.0 in /usr/local/lib/python3.11/dist-packages (from chromadb!=0.5.10,!=0.5.11,!=0.5.12,!=0.5.4,!=0.5.5,!=0.5.7,!=0.5.9,<0.7.0,>=0.4.0->langchain_chroma) (4.12.2)\n",
            "Collecting onnxruntime>=1.14.1 (from chromadb!=0.5.10,!=0.5.11,!=0.5.12,!=0.5.4,!=0.5.5,!=0.5.7,!=0.5.9,<0.7.0,>=0.4.0->langchain_chroma)\n",
            "  Downloading onnxruntime-1.21.0-cp311-cp311-manylinux_2_27_x86_64.manylinux_2_28_x86_64.whl.metadata (4.5 kB)\n",
            "Requirement already satisfied: opentelemetry-api>=1.2.0 in /usr/local/lib/python3.11/dist-packages (from chromadb!=0.5.10,!=0.5.11,!=0.5.12,!=0.5.4,!=0.5.5,!=0.5.7,!=0.5.9,<0.7.0,>=0.4.0->langchain_chroma) (1.16.0)\n",
            "Collecting opentelemetry-exporter-otlp-proto-grpc>=1.2.0 (from chromadb!=0.5.10,!=0.5.11,!=0.5.12,!=0.5.4,!=0.5.5,!=0.5.7,!=0.5.9,<0.7.0,>=0.4.0->langchain_chroma)\n",
            "  Downloading opentelemetry_exporter_otlp_proto_grpc-1.30.0-py3-none-any.whl.metadata (2.4 kB)\n",
            "Collecting opentelemetry-instrumentation-fastapi>=0.41b0 (from chromadb!=0.5.10,!=0.5.11,!=0.5.12,!=0.5.4,!=0.5.5,!=0.5.7,!=0.5.9,<0.7.0,>=0.4.0->langchain_chroma)\n",
            "  Downloading opentelemetry_instrumentation_fastapi-0.51b0-py3-none-any.whl.metadata (2.2 kB)\n",
            "Requirement already satisfied: opentelemetry-sdk>=1.2.0 in /usr/local/lib/python3.11/dist-packages (from chromadb!=0.5.10,!=0.5.11,!=0.5.12,!=0.5.4,!=0.5.5,!=0.5.7,!=0.5.9,<0.7.0,>=0.4.0->langchain_chroma) (1.16.0)\n",
            "Requirement already satisfied: tokenizers>=0.13.2 in /usr/local/lib/python3.11/dist-packages (from chromadb!=0.5.10,!=0.5.11,!=0.5.12,!=0.5.4,!=0.5.5,!=0.5.7,!=0.5.9,<0.7.0,>=0.4.0->langchain_chroma) (0.21.0)\n",
            "Collecting pypika>=0.48.9 (from chromadb!=0.5.10,!=0.5.11,!=0.5.12,!=0.5.4,!=0.5.5,!=0.5.7,!=0.5.9,<0.7.0,>=0.4.0->langchain_chroma)\n",
            "  Downloading PyPika-0.48.9.tar.gz (67 kB)\n",
            "\u001b[2K     \u001b[90m━━━━━━━━━━━━━━━━━━━━━━━━━━━━━━━━━━━━━━━━\u001b[0m \u001b[32m67.3/67.3 kB\u001b[0m \u001b[31m6.9 MB/s\u001b[0m eta \u001b[36m0:00:00\u001b[0m\n",
            "\u001b[?25h  Installing build dependencies ... \u001b[?25l\u001b[?25hdone\n",
            "  Getting requirements to build wheel ... \u001b[?25l\u001b[?25hdone\n",
            "  Preparing metadata (pyproject.toml) ... \u001b[?25l\u001b[?25hdone\n",
            "Requirement already satisfied: tqdm>=4.65.0 in /usr/local/lib/python3.11/dist-packages (from chromadb!=0.5.10,!=0.5.11,!=0.5.12,!=0.5.4,!=0.5.5,!=0.5.7,!=0.5.9,<0.7.0,>=0.4.0->langchain_chroma) (4.67.1)\n",
            "Collecting overrides>=7.3.1 (from chromadb!=0.5.10,!=0.5.11,!=0.5.12,!=0.5.4,!=0.5.5,!=0.5.7,!=0.5.9,<0.7.0,>=0.4.0->langchain_chroma)\n",
            "  Downloading overrides-7.7.0-py3-none-any.whl.metadata (5.8 kB)\n",
            "Requirement already satisfied: importlib-resources in /usr/local/lib/python3.11/dist-packages (from chromadb!=0.5.10,!=0.5.11,!=0.5.12,!=0.5.4,!=0.5.5,!=0.5.7,!=0.5.9,<0.7.0,>=0.4.0->langchain_chroma) (6.5.2)\n",
            "Requirement already satisfied: grpcio>=1.58.0 in /usr/local/lib/python3.11/dist-packages (from chromadb!=0.5.10,!=0.5.11,!=0.5.12,!=0.5.4,!=0.5.5,!=0.5.7,!=0.5.9,<0.7.0,>=0.4.0->langchain_chroma) (1.70.0)\n",
            "Collecting bcrypt>=4.0.1 (from chromadb!=0.5.10,!=0.5.11,!=0.5.12,!=0.5.4,!=0.5.5,!=0.5.7,!=0.5.9,<0.7.0,>=0.4.0->langchain_chroma)\n",
            "  Downloading bcrypt-4.3.0-cp39-abi3-manylinux_2_34_x86_64.whl.metadata (10 kB)\n",
            "Requirement already satisfied: typer>=0.9.0 in /usr/local/lib/python3.11/dist-packages (from chromadb!=0.5.10,!=0.5.11,!=0.5.12,!=0.5.4,!=0.5.5,!=0.5.7,!=0.5.9,<0.7.0,>=0.4.0->langchain_chroma) (0.15.2)\n",
            "Collecting kubernetes>=28.1.0 (from chromadb!=0.5.10,!=0.5.11,!=0.5.12,!=0.5.4,!=0.5.5,!=0.5.7,!=0.5.9,<0.7.0,>=0.4.0->langchain_chroma)\n",
            "  Downloading kubernetes-32.0.1-py2.py3-none-any.whl.metadata (1.7 kB)\n",
            "Requirement already satisfied: tenacity>=8.2.3 in /usr/local/lib/python3.11/dist-packages (from chromadb!=0.5.10,!=0.5.11,!=0.5.12,!=0.5.4,!=0.5.5,!=0.5.7,!=0.5.9,<0.7.0,>=0.4.0->langchain_chroma) (9.0.0)\n",
            "Requirement already satisfied: PyYAML>=6.0.0 in /usr/local/lib/python3.11/dist-packages (from chromadb!=0.5.10,!=0.5.11,!=0.5.12,!=0.5.4,!=0.5.5,!=0.5.7,!=0.5.9,<0.7.0,>=0.4.0->langchain_chroma) (6.0.2)\n",
            "Collecting mmh3>=4.0.1 (from chromadb!=0.5.10,!=0.5.11,!=0.5.12,!=0.5.4,!=0.5.5,!=0.5.7,!=0.5.9,<0.7.0,>=0.4.0->langchain_chroma)\n",
            "  Downloading mmh3-5.1.0-cp311-cp311-manylinux_2_5_x86_64.manylinux1_x86_64.manylinux_2_17_x86_64.manylinux2014_x86_64.whl.metadata (16 kB)\n",
            "Requirement already satisfied: orjson>=3.9.12 in /usr/local/lib/python3.11/dist-packages (from chromadb!=0.5.10,!=0.5.11,!=0.5.12,!=0.5.4,!=0.5.5,!=0.5.7,!=0.5.9,<0.7.0,>=0.4.0->langchain_chroma) (3.10.15)\n",
            "Requirement already satisfied: httpx>=0.27.0 in /usr/local/lib/python3.11/dist-packages (from chromadb!=0.5.10,!=0.5.11,!=0.5.12,!=0.5.4,!=0.5.5,!=0.5.7,!=0.5.9,<0.7.0,>=0.4.0->langchain_chroma) (0.28.1)\n",
            "Requirement already satisfied: rich>=10.11.0 in /usr/local/lib/python3.11/dist-packages (from chromadb!=0.5.10,!=0.5.11,!=0.5.12,!=0.5.4,!=0.5.5,!=0.5.7,!=0.5.9,<0.7.0,>=0.4.0->langchain_chroma) (13.9.4)\n",
            "Requirement already satisfied: langsmith<0.4,>=0.1.125 in /usr/local/lib/python3.11/dist-packages (from langchain-core!=0.3.0,!=0.3.1,!=0.3.10,!=0.3.11,!=0.3.12,!=0.3.13,!=0.3.14,!=0.3.2,!=0.3.3,!=0.3.4,!=0.3.5,!=0.3.6,!=0.3.7,!=0.3.8,!=0.3.9,<0.4.0,>=0.2.43->langchain_chroma) (0.3.11)\n",
            "Requirement already satisfied: jsonpatch<2.0,>=1.33 in /usr/local/lib/python3.11/dist-packages (from langchain-core!=0.3.0,!=0.3.1,!=0.3.10,!=0.3.11,!=0.3.12,!=0.3.13,!=0.3.14,!=0.3.2,!=0.3.3,!=0.3.4,!=0.3.5,!=0.3.6,!=0.3.7,!=0.3.8,!=0.3.9,<0.4.0,>=0.2.43->langchain_chroma) (1.33)\n",
            "Requirement already satisfied: packaging<25,>=23.2 in /usr/local/lib/python3.11/dist-packages (from langchain-core!=0.3.0,!=0.3.1,!=0.3.10,!=0.3.11,!=0.3.12,!=0.3.13,!=0.3.14,!=0.3.2,!=0.3.3,!=0.3.4,!=0.3.5,!=0.3.6,!=0.3.7,!=0.3.8,!=0.3.9,<0.4.0,>=0.2.43->langchain_chroma) (24.2)\n",
            "Requirement already satisfied: anyio<5,>=3.5.0 in /usr/local/lib/python3.11/dist-packages (from openai<2.0.0,>=1.58.1->langchain_openai) (3.7.1)\n",
            "Requirement already satisfied: distro<2,>=1.7.0 in /usr/local/lib/python3.11/dist-packages (from openai<2.0.0,>=1.58.1->langchain_openai) (1.9.0)\n",
            "Requirement already satisfied: jiter<1,>=0.4.0 in /usr/local/lib/python3.11/dist-packages (from openai<2.0.0,>=1.58.1->langchain_openai) (0.8.2)\n",
            "Requirement already satisfied: sniffio in /usr/local/lib/python3.11/dist-packages (from openai<2.0.0,>=1.58.1->langchain_openai) (1.3.1)\n",
            "Requirement already satisfied: regex>=2022.1.18 in /usr/local/lib/python3.11/dist-packages (from tiktoken<1,>=0.7->langchain_openai) (2024.11.6)\n",
            "Requirement already satisfied: requests>=2.26.0 in /usr/local/lib/python3.11/dist-packages (from tiktoken<1,>=0.7->langchain_openai) (2.32.3)\n",
            "Requirement already satisfied: idna>=2.8 in /usr/local/lib/python3.11/dist-packages (from anyio<5,>=3.5.0->openai<2.0.0,>=1.58.1->langchain_openai) (3.10)\n",
            "Collecting pyproject_hooks (from build>=1.0.3->chromadb!=0.5.10,!=0.5.11,!=0.5.12,!=0.5.4,!=0.5.5,!=0.5.7,!=0.5.9,<0.7.0,>=0.4.0->langchain_chroma)\n",
            "  Downloading pyproject_hooks-1.2.0-py3-none-any.whl.metadata (1.3 kB)\n",
            "Collecting starlette<0.47.0,>=0.40.0 (from fastapi>=0.95.2->chromadb!=0.5.10,!=0.5.11,!=0.5.12,!=0.5.4,!=0.5.5,!=0.5.7,!=0.5.9,<0.7.0,>=0.4.0->langchain_chroma)\n",
            "  Downloading starlette-0.46.0-py3-none-any.whl.metadata (6.2 kB)\n",
            "Requirement already satisfied: certifi in /usr/local/lib/python3.11/dist-packages (from httpx>=0.27.0->chromadb!=0.5.10,!=0.5.11,!=0.5.12,!=0.5.4,!=0.5.5,!=0.5.7,!=0.5.9,<0.7.0,>=0.4.0->langchain_chroma) (2025.1.31)\n",
            "Requirement already satisfied: httpcore==1.* in /usr/local/lib/python3.11/dist-packages (from httpx>=0.27.0->chromadb!=0.5.10,!=0.5.11,!=0.5.12,!=0.5.4,!=0.5.5,!=0.5.7,!=0.5.9,<0.7.0,>=0.4.0->langchain_chroma) (1.0.7)\n",
            "Requirement already satisfied: h11<0.15,>=0.13 in /usr/local/lib/python3.11/dist-packages (from httpcore==1.*->httpx>=0.27.0->chromadb!=0.5.10,!=0.5.11,!=0.5.12,!=0.5.4,!=0.5.5,!=0.5.7,!=0.5.9,<0.7.0,>=0.4.0->langchain_chroma) (0.14.0)\n",
            "Requirement already satisfied: jsonpointer>=1.9 in /usr/local/lib/python3.11/dist-packages (from jsonpatch<2.0,>=1.33->langchain-core!=0.3.0,!=0.3.1,!=0.3.10,!=0.3.11,!=0.3.12,!=0.3.13,!=0.3.14,!=0.3.2,!=0.3.3,!=0.3.4,!=0.3.5,!=0.3.6,!=0.3.7,!=0.3.8,!=0.3.9,<0.4.0,>=0.2.43->langchain_chroma) (3.0.0)\n",
            "Requirement already satisfied: six>=1.9.0 in /usr/local/lib/python3.11/dist-packages (from kubernetes>=28.1.0->chromadb!=0.5.10,!=0.5.11,!=0.5.12,!=0.5.4,!=0.5.5,!=0.5.7,!=0.5.9,<0.7.0,>=0.4.0->langchain_chroma) (1.17.0)\n",
            "Requirement already satisfied: python-dateutil>=2.5.3 in /usr/local/lib/python3.11/dist-packages (from kubernetes>=28.1.0->chromadb!=0.5.10,!=0.5.11,!=0.5.12,!=0.5.4,!=0.5.5,!=0.5.7,!=0.5.9,<0.7.0,>=0.4.0->langchain_chroma) (2.8.2)\n",
            "Requirement already satisfied: google-auth>=1.0.1 in /usr/local/lib/python3.11/dist-packages (from kubernetes>=28.1.0->chromadb!=0.5.10,!=0.5.11,!=0.5.12,!=0.5.4,!=0.5.5,!=0.5.7,!=0.5.9,<0.7.0,>=0.4.0->langchain_chroma) (2.38.0)\n",
            "Requirement already satisfied: websocket-client!=0.40.0,!=0.41.*,!=0.42.*,>=0.32.0 in /usr/local/lib/python3.11/dist-packages (from kubernetes>=28.1.0->chromadb!=0.5.10,!=0.5.11,!=0.5.12,!=0.5.4,!=0.5.5,!=0.5.7,!=0.5.9,<0.7.0,>=0.4.0->langchain_chroma) (1.8.0)\n",
            "Requirement already satisfied: requests-oauthlib in /usr/local/lib/python3.11/dist-packages (from kubernetes>=28.1.0->chromadb!=0.5.10,!=0.5.11,!=0.5.12,!=0.5.4,!=0.5.5,!=0.5.7,!=0.5.9,<0.7.0,>=0.4.0->langchain_chroma) (2.0.0)\n",
            "Requirement already satisfied: oauthlib>=3.2.2 in /usr/local/lib/python3.11/dist-packages (from kubernetes>=28.1.0->chromadb!=0.5.10,!=0.5.11,!=0.5.12,!=0.5.4,!=0.5.5,!=0.5.7,!=0.5.9,<0.7.0,>=0.4.0->langchain_chroma) (3.2.2)\n",
            "Requirement already satisfied: urllib3>=1.24.2 in /usr/local/lib/python3.11/dist-packages (from kubernetes>=28.1.0->chromadb!=0.5.10,!=0.5.11,!=0.5.12,!=0.5.4,!=0.5.5,!=0.5.7,!=0.5.9,<0.7.0,>=0.4.0->langchain_chroma) (2.3.0)\n",
            "Collecting durationpy>=0.7 (from kubernetes>=28.1.0->chromadb!=0.5.10,!=0.5.11,!=0.5.12,!=0.5.4,!=0.5.5,!=0.5.7,!=0.5.9,<0.7.0,>=0.4.0->langchain_chroma)\n",
            "  Downloading durationpy-0.9-py3-none-any.whl.metadata (338 bytes)\n",
            "Requirement already satisfied: requests-toolbelt<2.0.0,>=1.0.0 in /usr/local/lib/python3.11/dist-packages (from langsmith<0.4,>=0.1.125->langchain-core!=0.3.0,!=0.3.1,!=0.3.10,!=0.3.11,!=0.3.12,!=0.3.13,!=0.3.14,!=0.3.2,!=0.3.3,!=0.3.4,!=0.3.5,!=0.3.6,!=0.3.7,!=0.3.8,!=0.3.9,<0.4.0,>=0.2.43->langchain_chroma) (1.0.0)\n",
            "Requirement already satisfied: zstandard<0.24.0,>=0.23.0 in /usr/local/lib/python3.11/dist-packages (from langsmith<0.4,>=0.1.125->langchain-core!=0.3.0,!=0.3.1,!=0.3.10,!=0.3.11,!=0.3.12,!=0.3.13,!=0.3.14,!=0.3.2,!=0.3.3,!=0.3.4,!=0.3.5,!=0.3.6,!=0.3.7,!=0.3.8,!=0.3.9,<0.4.0,>=0.2.43->langchain_chroma) (0.23.0)\n",
            "Collecting coloredlogs (from onnxruntime>=1.14.1->chromadb!=0.5.10,!=0.5.11,!=0.5.12,!=0.5.4,!=0.5.5,!=0.5.7,!=0.5.9,<0.7.0,>=0.4.0->langchain_chroma)\n",
            "  Downloading coloredlogs-15.0.1-py2.py3-none-any.whl.metadata (12 kB)\n",
            "Requirement already satisfied: flatbuffers in /usr/local/lib/python3.11/dist-packages (from onnxruntime>=1.14.1->chromadb!=0.5.10,!=0.5.11,!=0.5.12,!=0.5.4,!=0.5.5,!=0.5.7,!=0.5.9,<0.7.0,>=0.4.0->langchain_chroma) (25.2.10)\n",
            "Requirement already satisfied: protobuf in /usr/local/lib/python3.11/dist-packages (from onnxruntime>=1.14.1->chromadb!=0.5.10,!=0.5.11,!=0.5.12,!=0.5.4,!=0.5.5,!=0.5.7,!=0.5.9,<0.7.0,>=0.4.0->langchain_chroma) (4.25.6)\n",
            "Requirement already satisfied: sympy in /usr/local/lib/python3.11/dist-packages (from onnxruntime>=1.14.1->chromadb!=0.5.10,!=0.5.11,!=0.5.12,!=0.5.4,!=0.5.5,!=0.5.7,!=0.5.9,<0.7.0,>=0.4.0->langchain_chroma) (1.13.1)\n",
            "Requirement already satisfied: deprecated>=1.2.6 in /usr/local/lib/python3.11/dist-packages (from opentelemetry-api>=1.2.0->chromadb!=0.5.10,!=0.5.11,!=0.5.12,!=0.5.4,!=0.5.5,!=0.5.7,!=0.5.9,<0.7.0,>=0.4.0->langchain_chroma) (1.2.18)\n",
            "Requirement already satisfied: setuptools>=16.0 in /usr/local/lib/python3.11/dist-packages (from opentelemetry-api>=1.2.0->chromadb!=0.5.10,!=0.5.11,!=0.5.12,!=0.5.4,!=0.5.5,!=0.5.7,!=0.5.9,<0.7.0,>=0.4.0->langchain_chroma) (75.1.0)\n",
            "Requirement already satisfied: googleapis-common-protos~=1.52 in /usr/local/lib/python3.11/dist-packages (from opentelemetry-exporter-otlp-proto-grpc>=1.2.0->chromadb!=0.5.10,!=0.5.11,!=0.5.12,!=0.5.4,!=0.5.5,!=0.5.7,!=0.5.9,<0.7.0,>=0.4.0->langchain_chroma) (1.69.0)\n",
            "Collecting opentelemetry-exporter-otlp-proto-common==1.30.0 (from opentelemetry-exporter-otlp-proto-grpc>=1.2.0->chromadb!=0.5.10,!=0.5.11,!=0.5.12,!=0.5.4,!=0.5.5,!=0.5.7,!=0.5.9,<0.7.0,>=0.4.0->langchain_chroma)\n",
            "  Downloading opentelemetry_exporter_otlp_proto_common-1.30.0-py3-none-any.whl.metadata (1.9 kB)\n",
            "Collecting opentelemetry-proto==1.30.0 (from opentelemetry-exporter-otlp-proto-grpc>=1.2.0->chromadb!=0.5.10,!=0.5.11,!=0.5.12,!=0.5.4,!=0.5.5,!=0.5.7,!=0.5.9,<0.7.0,>=0.4.0->langchain_chroma)\n",
            "  Downloading opentelemetry_proto-1.30.0-py3-none-any.whl.metadata (2.4 kB)\n",
            "Collecting opentelemetry-sdk>=1.2.0 (from chromadb!=0.5.10,!=0.5.11,!=0.5.12,!=0.5.4,!=0.5.5,!=0.5.7,!=0.5.9,<0.7.0,>=0.4.0->langchain_chroma)\n",
            "  Downloading opentelemetry_sdk-1.30.0-py3-none-any.whl.metadata (1.6 kB)\n",
            "Collecting protobuf (from onnxruntime>=1.14.1->chromadb!=0.5.10,!=0.5.11,!=0.5.12,!=0.5.4,!=0.5.5,!=0.5.7,!=0.5.9,<0.7.0,>=0.4.0->langchain_chroma)\n",
            "  Downloading protobuf-5.29.3-cp38-abi3-manylinux2014_x86_64.whl.metadata (592 bytes)\n",
            "Collecting opentelemetry-instrumentation-asgi==0.51b0 (from opentelemetry-instrumentation-fastapi>=0.41b0->chromadb!=0.5.10,!=0.5.11,!=0.5.12,!=0.5.4,!=0.5.5,!=0.5.7,!=0.5.9,<0.7.0,>=0.4.0->langchain_chroma)\n",
            "  Downloading opentelemetry_instrumentation_asgi-0.51b0-py3-none-any.whl.metadata (2.1 kB)\n",
            "Collecting opentelemetry-instrumentation==0.51b0 (from opentelemetry-instrumentation-fastapi>=0.41b0->chromadb!=0.5.10,!=0.5.11,!=0.5.12,!=0.5.4,!=0.5.5,!=0.5.7,!=0.5.9,<0.7.0,>=0.4.0->langchain_chroma)\n",
            "  Downloading opentelemetry_instrumentation-0.51b0-py3-none-any.whl.metadata (6.3 kB)\n",
            "Collecting opentelemetry-semantic-conventions==0.51b0 (from opentelemetry-instrumentation-fastapi>=0.41b0->chromadb!=0.5.10,!=0.5.11,!=0.5.12,!=0.5.4,!=0.5.5,!=0.5.7,!=0.5.9,<0.7.0,>=0.4.0->langchain_chroma)\n",
            "  Downloading opentelemetry_semantic_conventions-0.51b0-py3-none-any.whl.metadata (2.5 kB)\n",
            "Collecting opentelemetry-util-http==0.51b0 (from opentelemetry-instrumentation-fastapi>=0.41b0->chromadb!=0.5.10,!=0.5.11,!=0.5.12,!=0.5.4,!=0.5.5,!=0.5.7,!=0.5.9,<0.7.0,>=0.4.0->langchain_chroma)\n",
            "  Downloading opentelemetry_util_http-0.51b0-py3-none-any.whl.metadata (2.6 kB)\n",
            "Requirement already satisfied: wrapt<2.0.0,>=1.0.0 in /usr/local/lib/python3.11/dist-packages (from opentelemetry-instrumentation==0.51b0->opentelemetry-instrumentation-fastapi>=0.41b0->chromadb!=0.5.10,!=0.5.11,!=0.5.12,!=0.5.4,!=0.5.5,!=0.5.7,!=0.5.9,<0.7.0,>=0.4.0->langchain_chroma) (1.17.2)\n",
            "Collecting asgiref~=3.0 (from opentelemetry-instrumentation-asgi==0.51b0->opentelemetry-instrumentation-fastapi>=0.41b0->chromadb!=0.5.10,!=0.5.11,!=0.5.12,!=0.5.4,!=0.5.5,!=0.5.7,!=0.5.9,<0.7.0,>=0.4.0->langchain_chroma)\n",
            "  Downloading asgiref-3.8.1-py3-none-any.whl.metadata (9.3 kB)\n",
            "Collecting opentelemetry-api>=1.2.0 (from chromadb!=0.5.10,!=0.5.11,!=0.5.12,!=0.5.4,!=0.5.5,!=0.5.7,!=0.5.9,<0.7.0,>=0.4.0->langchain_chroma)\n",
            "  Downloading opentelemetry_api-1.30.0-py3-none-any.whl.metadata (1.6 kB)\n",
            "Collecting importlib-metadata<=8.5.0,>=6.0 (from opentelemetry-api>=1.2.0->chromadb!=0.5.10,!=0.5.11,!=0.5.12,!=0.5.4,!=0.5.5,!=0.5.7,!=0.5.9,<0.7.0,>=0.4.0->langchain_chroma)\n",
            "  Downloading importlib_metadata-8.5.0-py3-none-any.whl.metadata (4.8 kB)\n",
            "Collecting monotonic>=1.5 (from posthog>=2.4.0->chromadb!=0.5.10,!=0.5.11,!=0.5.12,!=0.5.4,!=0.5.5,!=0.5.7,!=0.5.9,<0.7.0,>=0.4.0->langchain_chroma)\n",
            "  Downloading monotonic-1.6-py2.py3-none-any.whl.metadata (1.5 kB)\n",
            "Collecting backoff>=1.10.0 (from posthog>=2.4.0->chromadb!=0.5.10,!=0.5.11,!=0.5.12,!=0.5.4,!=0.5.5,!=0.5.7,!=0.5.9,<0.7.0,>=0.4.0->langchain_chroma)\n",
            "  Downloading backoff-2.2.1-py3-none-any.whl.metadata (14 kB)\n",
            "Requirement already satisfied: annotated-types>=0.6.0 in /usr/local/lib/python3.11/dist-packages (from pydantic>=1.9->chromadb!=0.5.10,!=0.5.11,!=0.5.12,!=0.5.4,!=0.5.5,!=0.5.7,!=0.5.9,<0.7.0,>=0.4.0->langchain_chroma) (0.7.0)\n",
            "Requirement already satisfied: pydantic-core==2.27.2 in /usr/local/lib/python3.11/dist-packages (from pydantic>=1.9->chromadb!=0.5.10,!=0.5.11,!=0.5.12,!=0.5.4,!=0.5.5,!=0.5.7,!=0.5.9,<0.7.0,>=0.4.0->langchain_chroma) (2.27.2)\n",
            "Requirement already satisfied: charset-normalizer<4,>=2 in /usr/local/lib/python3.11/dist-packages (from requests>=2.26.0->tiktoken<1,>=0.7->langchain_openai) (3.4.1)\n",
            "Requirement already satisfied: markdown-it-py>=2.2.0 in /usr/local/lib/python3.11/dist-packages (from rich>=10.11.0->chromadb!=0.5.10,!=0.5.11,!=0.5.12,!=0.5.4,!=0.5.5,!=0.5.7,!=0.5.9,<0.7.0,>=0.4.0->langchain_chroma) (3.0.0)\n",
            "Requirement already satisfied: pygments<3.0.0,>=2.13.0 in /usr/local/lib/python3.11/dist-packages (from rich>=10.11.0->chromadb!=0.5.10,!=0.5.11,!=0.5.12,!=0.5.4,!=0.5.5,!=0.5.7,!=0.5.9,<0.7.0,>=0.4.0->langchain_chroma) (2.18.0)\n",
            "Requirement already satisfied: huggingface-hub<1.0,>=0.16.4 in /usr/local/lib/python3.11/dist-packages (from tokenizers>=0.13.2->chromadb!=0.5.10,!=0.5.11,!=0.5.12,!=0.5.4,!=0.5.5,!=0.5.7,!=0.5.9,<0.7.0,>=0.4.0->langchain_chroma) (0.28.1)\n",
            "Requirement already satisfied: click>=8.0.0 in /usr/local/lib/python3.11/dist-packages (from typer>=0.9.0->chromadb!=0.5.10,!=0.5.11,!=0.5.12,!=0.5.4,!=0.5.5,!=0.5.7,!=0.5.9,<0.7.0,>=0.4.0->langchain_chroma) (8.1.8)\n",
            "Requirement already satisfied: shellingham>=1.3.0 in /usr/local/lib/python3.11/dist-packages (from typer>=0.9.0->chromadb!=0.5.10,!=0.5.11,!=0.5.12,!=0.5.4,!=0.5.5,!=0.5.7,!=0.5.9,<0.7.0,>=0.4.0->langchain_chroma) (1.5.4)\n",
            "Collecting httptools>=0.6.3 (from uvicorn[standard]>=0.18.3->chromadb!=0.5.10,!=0.5.11,!=0.5.12,!=0.5.4,!=0.5.5,!=0.5.7,!=0.5.9,<0.7.0,>=0.4.0->langchain_chroma)\n",
            "  Downloading httptools-0.6.4-cp311-cp311-manylinux_2_5_x86_64.manylinux1_x86_64.manylinux_2_17_x86_64.manylinux2014_x86_64.whl.metadata (3.6 kB)\n",
            "Requirement already satisfied: python-dotenv>=0.13 in /usr/local/lib/python3.11/dist-packages (from uvicorn[standard]>=0.18.3->chromadb!=0.5.10,!=0.5.11,!=0.5.12,!=0.5.4,!=0.5.5,!=0.5.7,!=0.5.9,<0.7.0,>=0.4.0->langchain_chroma) (1.0.1)\n",
            "Collecting uvloop!=0.15.0,!=0.15.1,>=0.14.0 (from uvicorn[standard]>=0.18.3->chromadb!=0.5.10,!=0.5.11,!=0.5.12,!=0.5.4,!=0.5.5,!=0.5.7,!=0.5.9,<0.7.0,>=0.4.0->langchain_chroma)\n",
            "  Downloading uvloop-0.21.0-cp311-cp311-manylinux_2_17_x86_64.manylinux2014_x86_64.whl.metadata (4.9 kB)\n",
            "Collecting watchfiles>=0.13 (from uvicorn[standard]>=0.18.3->chromadb!=0.5.10,!=0.5.11,!=0.5.12,!=0.5.4,!=0.5.5,!=0.5.7,!=0.5.9,<0.7.0,>=0.4.0->langchain_chroma)\n",
            "  Downloading watchfiles-1.0.4-cp311-cp311-manylinux_2_17_x86_64.manylinux2014_x86_64.whl.metadata (4.9 kB)\n",
            "Requirement already satisfied: websockets>=10.4 in /usr/local/lib/python3.11/dist-packages (from uvicorn[standard]>=0.18.3->chromadb!=0.5.10,!=0.5.11,!=0.5.12,!=0.5.4,!=0.5.5,!=0.5.7,!=0.5.9,<0.7.0,>=0.4.0->langchain_chroma) (14.2)\n",
            "Requirement already satisfied: cachetools<6.0,>=2.0.0 in /usr/local/lib/python3.11/dist-packages (from google-auth>=1.0.1->kubernetes>=28.1.0->chromadb!=0.5.10,!=0.5.11,!=0.5.12,!=0.5.4,!=0.5.5,!=0.5.7,!=0.5.9,<0.7.0,>=0.4.0->langchain_chroma) (5.5.2)\n",
            "Requirement already satisfied: pyasn1-modules>=0.2.1 in /usr/local/lib/python3.11/dist-packages (from google-auth>=1.0.1->kubernetes>=28.1.0->chromadb!=0.5.10,!=0.5.11,!=0.5.12,!=0.5.4,!=0.5.5,!=0.5.7,!=0.5.9,<0.7.0,>=0.4.0->langchain_chroma) (0.4.1)\n",
            "Requirement already satisfied: rsa<5,>=3.1.4 in /usr/local/lib/python3.11/dist-packages (from google-auth>=1.0.1->kubernetes>=28.1.0->chromadb!=0.5.10,!=0.5.11,!=0.5.12,!=0.5.4,!=0.5.5,!=0.5.7,!=0.5.9,<0.7.0,>=0.4.0->langchain_chroma) (4.9)\n",
            "Requirement already satisfied: filelock in /usr/local/lib/python3.11/dist-packages (from huggingface-hub<1.0,>=0.16.4->tokenizers>=0.13.2->chromadb!=0.5.10,!=0.5.11,!=0.5.12,!=0.5.4,!=0.5.5,!=0.5.7,!=0.5.9,<0.7.0,>=0.4.0->langchain_chroma) (3.17.0)\n",
            "Requirement already satisfied: fsspec>=2023.5.0 in /usr/local/lib/python3.11/dist-packages (from huggingface-hub<1.0,>=0.16.4->tokenizers>=0.13.2->chromadb!=0.5.10,!=0.5.11,!=0.5.12,!=0.5.4,!=0.5.5,!=0.5.7,!=0.5.9,<0.7.0,>=0.4.0->langchain_chroma) (2024.10.0)\n",
            "Requirement already satisfied: zipp>=3.20 in /usr/local/lib/python3.11/dist-packages (from importlib-metadata<=8.5.0,>=6.0->opentelemetry-api>=1.2.0->chromadb!=0.5.10,!=0.5.11,!=0.5.12,!=0.5.4,!=0.5.5,!=0.5.7,!=0.5.9,<0.7.0,>=0.4.0->langchain_chroma) (3.21.0)\n",
            "Requirement already satisfied: mdurl~=0.1 in /usr/local/lib/python3.11/dist-packages (from markdown-it-py>=2.2.0->rich>=10.11.0->chromadb!=0.5.10,!=0.5.11,!=0.5.12,!=0.5.4,!=0.5.5,!=0.5.7,!=0.5.9,<0.7.0,>=0.4.0->langchain_chroma) (0.1.2)\n",
            "Collecting humanfriendly>=9.1 (from coloredlogs->onnxruntime>=1.14.1->chromadb!=0.5.10,!=0.5.11,!=0.5.12,!=0.5.4,!=0.5.5,!=0.5.7,!=0.5.9,<0.7.0,>=0.4.0->langchain_chroma)\n",
            "  Downloading humanfriendly-10.0-py2.py3-none-any.whl.metadata (9.2 kB)\n",
            "Requirement already satisfied: mpmath<1.4,>=1.1.0 in /usr/local/lib/python3.11/dist-packages (from sympy->onnxruntime>=1.14.1->chromadb!=0.5.10,!=0.5.11,!=0.5.12,!=0.5.4,!=0.5.5,!=0.5.7,!=0.5.9,<0.7.0,>=0.4.0->langchain_chroma) (1.3.0)\n",
            "Requirement already satisfied: pyasn1<0.7.0,>=0.4.6 in /usr/local/lib/python3.11/dist-packages (from pyasn1-modules>=0.2.1->google-auth>=1.0.1->kubernetes>=28.1.0->chromadb!=0.5.10,!=0.5.11,!=0.5.12,!=0.5.4,!=0.5.5,!=0.5.7,!=0.5.9,<0.7.0,>=0.4.0->langchain_chroma) (0.6.1)\n",
            "Downloading langchain_chroma-0.2.2-py3-none-any.whl (11 kB)\n",
            "Downloading langchain_openai-0.3.8-py3-none-any.whl (55 kB)\n",
            "\u001b[2K   \u001b[90m━━━━━━━━━━━━━━━━━━━━━━━━━━━━━━━━━━━━━━━━\u001b[0m \u001b[32m55.4/55.4 kB\u001b[0m \u001b[31m6.0 MB/s\u001b[0m eta \u001b[36m0:00:00\u001b[0m\n",
            "\u001b[?25hDownloading chromadb-0.6.3-py3-none-any.whl (611 kB)\n",
            "\u001b[2K   \u001b[90m━━━━━━━━━━━━━━━━━━━━━━━━━━━━━━━━━━━━━━━━\u001b[0m \u001b[32m611.1/611.1 kB\u001b[0m \u001b[31m23.7 MB/s\u001b[0m eta \u001b[36m0:00:00\u001b[0m\n",
            "\u001b[?25hDownloading chroma_hnswlib-0.7.6-cp311-cp311-manylinux_2_17_x86_64.manylinux2014_x86_64.whl (2.4 MB)\n",
            "\u001b[2K   \u001b[90m━━━━━━━━━━━━━━━━━━━━━━━━━━━━━━━━━━━━━━━━\u001b[0m \u001b[32m2.4/2.4 MB\u001b[0m \u001b[31m74.0 MB/s\u001b[0m eta \u001b[36m0:00:00\u001b[0m\n",
            "\u001b[?25hDownloading tiktoken-0.9.0-cp311-cp311-manylinux_2_17_x86_64.manylinux2014_x86_64.whl (1.2 MB)\n",
            "\u001b[2K   \u001b[90m━━━━━━━━━━━━━━━━━━━━━━━━━━━━━━━━━━━━━━━━\u001b[0m \u001b[32m1.2/1.2 MB\u001b[0m \u001b[31m69.0 MB/s\u001b[0m eta \u001b[36m0:00:00\u001b[0m\n",
            "\u001b[?25hDownloading bcrypt-4.3.0-cp39-abi3-manylinux_2_34_x86_64.whl (284 kB)\n",
            "\u001b[2K   \u001b[90m━━━━━━━━━━━━━━━━━━━━━━━━━━━━━━━━━━━━━━━━\u001b[0m \u001b[32m284.2/284.2 kB\u001b[0m \u001b[31m27.1 MB/s\u001b[0m eta \u001b[36m0:00:00\u001b[0m\n",
            "\u001b[?25hDownloading build-1.2.2.post1-py3-none-any.whl (22 kB)\n",
            "Downloading fastapi-0.115.11-py3-none-any.whl (94 kB)\n",
            "\u001b[2K   \u001b[90m━━━━━━━━━━━━━━━━━━━━━━━━━━━━━━━━━━━━━━━━\u001b[0m \u001b[32m94.9/94.9 kB\u001b[0m \u001b[31m10.1 MB/s\u001b[0m eta \u001b[36m0:00:00\u001b[0m\n",
            "\u001b[?25hDownloading kubernetes-32.0.1-py2.py3-none-any.whl (2.0 MB)\n",
            "\u001b[2K   \u001b[90m━━━━━━━━━━━━━━━━━━━━━━━━━━━━━━━━━━━━━━━━\u001b[0m \u001b[32m2.0/2.0 MB\u001b[0m \u001b[31m83.7 MB/s\u001b[0m eta \u001b[36m0:00:00\u001b[0m\n",
            "\u001b[?25hDownloading mmh3-5.1.0-cp311-cp311-manylinux_2_5_x86_64.manylinux1_x86_64.manylinux_2_17_x86_64.manylinux2014_x86_64.whl (101 kB)\n",
            "\u001b[2K   \u001b[90m━━━━━━━━━━━━━━━━━━━━━━━━━━━━━━━━━━━━━━━━\u001b[0m \u001b[32m101.6/101.6 kB\u001b[0m \u001b[31m11.8 MB/s\u001b[0m eta \u001b[36m0:00:00\u001b[0m\n",
            "\u001b[?25hDownloading onnxruntime-1.21.0-cp311-cp311-manylinux_2_27_x86_64.manylinux_2_28_x86_64.whl (16.0 MB)\n",
            "\u001b[2K   \u001b[90m━━━━━━━━━━━━━━━━━━━━━━━━━━━━━━━━━━━━━━━━\u001b[0m \u001b[32m16.0/16.0 MB\u001b[0m \u001b[31m99.1 MB/s\u001b[0m eta \u001b[36m0:00:00\u001b[0m\n",
            "\u001b[?25hDownloading opentelemetry_exporter_otlp_proto_grpc-1.30.0-py3-none-any.whl (18 kB)\n",
            "Downloading opentelemetry_exporter_otlp_proto_common-1.30.0-py3-none-any.whl (18 kB)\n",
            "Downloading opentelemetry_proto-1.30.0-py3-none-any.whl (55 kB)\n",
            "\u001b[2K   \u001b[90m━━━━━━━━━━━━━━━━━━━━━━━━━━━━━━━━━━━━━━━━\u001b[0m \u001b[32m55.9/55.9 kB\u001b[0m \u001b[31m5.5 MB/s\u001b[0m eta \u001b[36m0:00:00\u001b[0m\n",
            "\u001b[?25hDownloading opentelemetry_instrumentation_fastapi-0.51b0-py3-none-any.whl (12 kB)\n",
            "Downloading opentelemetry_instrumentation-0.51b0-py3-none-any.whl (30 kB)\n",
            "Downloading opentelemetry_instrumentation_asgi-0.51b0-py3-none-any.whl (16 kB)\n",
            "Downloading opentelemetry_semantic_conventions-0.51b0-py3-none-any.whl (177 kB)\n",
            "\u001b[2K   \u001b[90m━━━━━━━━━━━━━━━━━━━━━━━━━━━━━━━━━━━━━━━━\u001b[0m \u001b[32m177.4/177.4 kB\u001b[0m \u001b[31m17.7 MB/s\u001b[0m eta \u001b[36m0:00:00\u001b[0m\n",
            "\u001b[?25hDownloading opentelemetry_api-1.30.0-py3-none-any.whl (64 kB)\n",
            "\u001b[2K   \u001b[90m━━━━━━━━━━━━━━━━━━━━━━━━━━━━━━━━━━━━━━━━\u001b[0m \u001b[32m65.0/65.0 kB\u001b[0m \u001b[31m6.3 MB/s\u001b[0m eta \u001b[36m0:00:00\u001b[0m\n",
            "\u001b[?25hDownloading opentelemetry_util_http-0.51b0-py3-none-any.whl (7.3 kB)\n",
            "Downloading opentelemetry_sdk-1.30.0-py3-none-any.whl (118 kB)\n",
            "\u001b[2K   \u001b[90m━━━━━━━━━━━━━━━━━━━━━━━━━━━━━━━━━━━━━━━━\u001b[0m \u001b[32m118.7/118.7 kB\u001b[0m \u001b[31m12.0 MB/s\u001b[0m eta \u001b[36m0:00:00\u001b[0m\n",
            "\u001b[?25hDownloading overrides-7.7.0-py3-none-any.whl (17 kB)\n",
            "Downloading posthog-3.19.0-py2.py3-none-any.whl (77 kB)\n",
            "\u001b[2K   \u001b[90m━━━━━━━━━━━━━━━━━━━━━━━━━━━━━━━━━━━━━━━━\u001b[0m \u001b[32m77.8/77.8 kB\u001b[0m \u001b[31m7.0 MB/s\u001b[0m eta \u001b[36m0:00:00\u001b[0m\n",
            "\u001b[?25hDownloading uvicorn-0.34.0-py3-none-any.whl (62 kB)\n",
            "\u001b[2K   \u001b[90m━━━━━━━━━━━━━━━━━━━━━━━━━━━━━━━━━━━━━━━━\u001b[0m \u001b[32m62.3/62.3 kB\u001b[0m \u001b[31m5.7 MB/s\u001b[0m eta \u001b[36m0:00:00\u001b[0m\n",
            "\u001b[?25hDownloading backoff-2.2.1-py3-none-any.whl (15 kB)\n",
            "Downloading durationpy-0.9-py3-none-any.whl (3.5 kB)\n",
            "Downloading httptools-0.6.4-cp311-cp311-manylinux_2_5_x86_64.manylinux1_x86_64.manylinux_2_17_x86_64.manylinux2014_x86_64.whl (459 kB)\n",
            "\u001b[2K   \u001b[90m━━━━━━━━━━━━━━━━━━━━━━━━━━━━━━━━━━━━━━━━\u001b[0m \u001b[32m459.8/459.8 kB\u001b[0m \u001b[31m33.2 MB/s\u001b[0m eta \u001b[36m0:00:00\u001b[0m\n",
            "\u001b[?25hDownloading importlib_metadata-8.5.0-py3-none-any.whl (26 kB)\n",
            "Downloading monotonic-1.6-py2.py3-none-any.whl (8.2 kB)\n",
            "Downloading protobuf-5.29.3-cp38-abi3-manylinux2014_x86_64.whl (319 kB)\n",
            "\u001b[2K   \u001b[90m━━━━━━━━━━━━━━━━━━━━━━━━━━━━━━━━━━━━━━━━\u001b[0m \u001b[32m319.7/319.7 kB\u001b[0m \u001b[31m27.8 MB/s\u001b[0m eta \u001b[36m0:00:00\u001b[0m\n",
            "\u001b[?25hDownloading starlette-0.46.0-py3-none-any.whl (71 kB)\n",
            "\u001b[2K   \u001b[90m━━━━━━━━━━━━━━━━━━━━━━━━━━━━━━━━━━━━━━━━\u001b[0m \u001b[32m72.0/72.0 kB\u001b[0m \u001b[31m6.9 MB/s\u001b[0m eta \u001b[36m0:00:00\u001b[0m\n",
            "\u001b[?25hDownloading uvloop-0.21.0-cp311-cp311-manylinux_2_17_x86_64.manylinux2014_x86_64.whl (4.0 MB)\n",
            "\u001b[2K   \u001b[90m━━━━━━━━━━━━━━━━━━━━━━━━━━━━━━━━━━━━━━━━\u001b[0m \u001b[32m4.0/4.0 MB\u001b[0m \u001b[31m105.3 MB/s\u001b[0m eta \u001b[36m0:00:00\u001b[0m\n",
            "\u001b[?25hDownloading watchfiles-1.0.4-cp311-cp311-manylinux_2_17_x86_64.manylinux2014_x86_64.whl (452 kB)\n",
            "\u001b[2K   \u001b[90m━━━━━━━━━━━━━━━━━━━━━━━━━━━━━━━━━━━━━━━━\u001b[0m \u001b[32m452.6/452.6 kB\u001b[0m \u001b[31m39.0 MB/s\u001b[0m eta \u001b[36m0:00:00\u001b[0m\n",
            "\u001b[?25hDownloading coloredlogs-15.0.1-py2.py3-none-any.whl (46 kB)\n",
            "\u001b[2K   \u001b[90m━━━━━━━━━━━━━━━━━━━━━━━━━━━━━━━━━━━━━━━━\u001b[0m \u001b[32m46.0/46.0 kB\u001b[0m \u001b[31m4.0 MB/s\u001b[0m eta \u001b[36m0:00:00\u001b[0m\n",
            "\u001b[?25hDownloading pyproject_hooks-1.2.0-py3-none-any.whl (10 kB)\n",
            "Downloading asgiref-3.8.1-py3-none-any.whl (23 kB)\n",
            "Downloading humanfriendly-10.0-py2.py3-none-any.whl (86 kB)\n",
            "\u001b[2K   \u001b[90m━━━━━━━━━━━━━━━━━━━━━━━━━━━━━━━━━━━━━━━━\u001b[0m \u001b[32m86.8/86.8 kB\u001b[0m \u001b[31m9.4 MB/s\u001b[0m eta \u001b[36m0:00:00\u001b[0m\n",
            "\u001b[?25hBuilding wheels for collected packages: pypika\n",
            "  Building wheel for pypika (pyproject.toml) ... \u001b[?25l\u001b[?25hdone\n",
            "  Created wheel for pypika: filename=pypika-0.48.9-py2.py3-none-any.whl size=53770 sha256=52ceb54db082f5b76a15ddd47fef6f6e184ef8262f928756342232a1c3b322a3\n",
            "  Stored in directory: /root/.cache/pip/wheels/a3/01/bd/4c40ceb9d5354160cb186dcc153360f4ab7eb23e2b24daf96d\n",
            "Successfully built pypika\n",
            "Installing collected packages: pypika, monotonic, durationpy, uvloop, uvicorn, pyproject_hooks, protobuf, overrides, opentelemetry-util-http, mmh3, importlib-metadata, humanfriendly, httptools, chroma-hnswlib, bcrypt, backoff, asgiref, watchfiles, tiktoken, starlette, posthog, opentelemetry-proto, opentelemetry-api, coloredlogs, build, opentelemetry-semantic-conventions, opentelemetry-exporter-otlp-proto-common, onnxruntime, kubernetes, fastapi, opentelemetry-sdk, opentelemetry-instrumentation, opentelemetry-instrumentation-asgi, opentelemetry-exporter-otlp-proto-grpc, langchain_openai, opentelemetry-instrumentation-fastapi, chromadb, langchain_chroma\n",
            "  Attempting uninstall: protobuf\n",
            "    Found existing installation: protobuf 4.25.6\n",
            "    Uninstalling protobuf-4.25.6:\n",
            "      Successfully uninstalled protobuf-4.25.6\n",
            "  Attempting uninstall: importlib-metadata\n",
            "    Found existing installation: importlib_metadata 8.6.1\n",
            "    Uninstalling importlib_metadata-8.6.1:\n",
            "      Successfully uninstalled importlib_metadata-8.6.1\n",
            "  Attempting uninstall: opentelemetry-api\n",
            "    Found existing installation: opentelemetry-api 1.16.0\n",
            "    Uninstalling opentelemetry-api-1.16.0:\n",
            "      Successfully uninstalled opentelemetry-api-1.16.0\n",
            "  Attempting uninstall: opentelemetry-semantic-conventions\n",
            "    Found existing installation: opentelemetry-semantic-conventions 0.37b0\n",
            "    Uninstalling opentelemetry-semantic-conventions-0.37b0:\n",
            "      Successfully uninstalled opentelemetry-semantic-conventions-0.37b0\n",
            "  Attempting uninstall: opentelemetry-sdk\n",
            "    Found existing installation: opentelemetry-sdk 1.16.0\n",
            "    Uninstalling opentelemetry-sdk-1.16.0:\n",
            "      Successfully uninstalled opentelemetry-sdk-1.16.0\n",
            "Successfully installed asgiref-3.8.1 backoff-2.2.1 bcrypt-4.3.0 build-1.2.2.post1 chroma-hnswlib-0.7.6 chromadb-0.6.3 coloredlogs-15.0.1 durationpy-0.9 fastapi-0.115.11 httptools-0.6.4 humanfriendly-10.0 importlib-metadata-8.5.0 kubernetes-32.0.1 langchain_chroma-0.2.2 langchain_openai-0.3.8 mmh3-5.1.0 monotonic-1.6 onnxruntime-1.21.0 opentelemetry-api-1.30.0 opentelemetry-exporter-otlp-proto-common-1.30.0 opentelemetry-exporter-otlp-proto-grpc-1.30.0 opentelemetry-instrumentation-0.51b0 opentelemetry-instrumentation-asgi-0.51b0 opentelemetry-instrumentation-fastapi-0.51b0 opentelemetry-proto-1.30.0 opentelemetry-sdk-1.30.0 opentelemetry-semantic-conventions-0.51b0 opentelemetry-util-http-0.51b0 overrides-7.7.0 posthog-3.19.0 protobuf-5.29.3 pypika-0.48.9 pyproject_hooks-1.2.0 starlette-0.46.0 tiktoken-0.9.0 uvicorn-0.34.0 uvloop-0.21.0 watchfiles-1.0.4\n"
          ]
        },
        {
          "output_type": "display_data",
          "data": {
            "application/vnd.colab-display-data+json": {
              "pip_warning": {
                "packages": [
                  "importlib_metadata"
                ]
              },
              "id": "672ebb5c39844233b78332730bd6179a"
            }
          },
          "metadata": {}
        }
      ]
    },
    {
      "cell_type": "markdown",
      "source": [
        "**Langchain**\n",
        "* **langchain**\n",
        "* **langchain-core**\n",
        "* **langchain-community**"
      ],
      "metadata": {
        "id": "10LTA0YLKHKo"
      }
    },
    {
      "cell_type": "code",
      "source": [
        "import os\n",
        "from langchain_chroma import Chroma                        # Library for our Vector Database\n",
        "from langchain_core.output_parsers import StrOutputParser  # This is for working / parsing the output into strings\n",
        "from langchain_core.prompts import PromptTemplate          # This is like a empty box, in which you put a prompt and then it is given to the model as a instruction\n",
        "from langchain_openai import OpenAIEmbeddings, ChatOpenAI  # Here, we have our embedding model from OpenAI, and OpenAI model\n",
        "from langchain_text_splitters import CharacterTextSplitter # From splitting the text (Context Window)\n",
        "from langchain_core.runnables import RunnablePassthrough   # It will help us to run everything together"
      ],
      "metadata": {
        "id": "kaP9SaZnHbwn"
      },
      "execution_count": null,
      "outputs": []
    },
    {
      "cell_type": "markdown",
      "source": [
        "### **2. Setting up the OpenAI**"
      ],
      "metadata": {
        "id": "oUn4E0p9MqHe"
      }
    },
    {
      "cell_type": "code",
      "source": [
        "from google.colab import userdata\n",
        "os.environ[\"OPENAI_API_KEY\"] = userdata.get('GPt') # Here, we are introducing the GPT API key into our colab"
      ],
      "metadata": {
        "id": "wZFQ0XUJMicM"
      },
      "execution_count": null,
      "outputs": []
    },
    {
      "cell_type": "markdown",
      "source": [
        "### **3. Models**\n",
        "\n",
        "* **OPENAI -> PAID**\n",
        "* **GEMINI -> PAID**\n",
        "* **HUGGINGFACEHUB -> FREE**\n",
        "* **COPILOT -> Free / Paid**\n",
        "* **MIXTRAL -> FREE using HF**\n",
        "* **Azure AI -> PAID**\n"
      ],
      "metadata": {
        "id": "DtxBPN_JQUzy"
      }
    },
    {
      "cell_type": "markdown",
      "source": [
        "## **Start with the DB setup**"
      ],
      "metadata": {
        "id": "jdHPr4ccQQtu"
      }
    },
    {
      "cell_type": "markdown",
      "source": [
        "### **1. Start with Embedding Model**"
      ],
      "metadata": {
        "id": "iGCBnPG7RaM2"
      }
    },
    {
      "cell_type": "code",
      "source": [
        "embedding = OpenAIEmbeddings(model = \"text-embedding-3-small\")"
      ],
      "metadata": {
        "id": "Z4obu954QHTh"
      },
      "execution_count": null,
      "outputs": []
    },
    {
      "cell_type": "code",
      "source": [
        "embedding"
      ],
      "metadata": {
        "colab": {
          "base_uri": "https://localhost:8080/"
        },
        "id": "I6eL4NexSAxL",
        "outputId": "e01a5647-cb4f-42ea-f2de-4358e1891fd2"
      },
      "execution_count": null,
      "outputs": [
        {
          "output_type": "execute_result",
          "data": {
            "text/plain": [
              "OpenAIEmbeddings(client=<openai.resources.embeddings.Embeddings object at 0x7cffdea0ae90>, async_client=<openai.resources.embeddings.AsyncEmbeddings object at 0x7cffde41d150>, model='text-embedding-3-small', dimensions=None, deployment='text-embedding-ada-002', openai_api_version=None, openai_api_base=None, openai_api_type=None, openai_proxy=None, embedding_ctx_length=8191, openai_api_key=SecretStr('**********'), openai_organization=None, allowed_special=None, disallowed_special=None, chunk_size=1000, max_retries=2, request_timeout=None, headers=None, tiktoken_enabled=True, tiktoken_model_name=None, show_progress_bar=False, model_kwargs={}, skip_empty=False, default_headers=None, default_query=None, retry_min_seconds=4, retry_max_seconds=20, http_client=None, http_async_client=None, check_embedding_ctx_length=True)"
            ]
          },
          "metadata": {},
          "execution_count": 5
        }
      ]
    },
    {
      "cell_type": "markdown",
      "source": [
        "### **2. Creation of VectorDB**"
      ],
      "metadata": {
        "id": "f-PEELdKShF2"
      }
    },
    {
      "cell_type": "code",
      "source": [
        "vector_store = Chroma(\n",
        "    collection_name = \"dev_08thmarch_rag\", # THis is our DB name\n",
        "    embedding_function = embedding         # Here we are using the model, the data needs to be embedded.\n",
        ")"
      ],
      "metadata": {
        "id": "SVyREjJjSD9w"
      },
      "execution_count": null,
      "outputs": []
    },
    {
      "cell_type": "code",
      "source": [
        "vector_store"
      ],
      "metadata": {
        "colab": {
          "base_uri": "https://localhost:8080/"
        },
        "id": "1CFYWgDcTAi5",
        "outputId": "7d5b6161-e796-4eb2-f367-aeaadd801ffd"
      },
      "execution_count": null,
      "outputs": [
        {
          "output_type": "execute_result",
          "data": {
            "text/plain": [
              "<langchain_chroma.vectorstores.Chroma at 0x7cffdea09110>"
            ]
          },
          "metadata": {},
          "execution_count": 7
        }
      ]
    },
    {
      "cell_type": "markdown",
      "source": [
        "### **3. Splitting the files and Storing them into vectorstores**"
      ],
      "metadata": {
        "id": "owfR7IezZnIN"
      }
    },
    {
      "cell_type": "code",
      "source": [
        "with open(\"/content/drive/MyDrive/PPTs/Session Files/Morning - GenAI/RAG Implementation/Text Data Source/2024_state_of_the_union.txt\") as f:\n",
        "  files = f.read()"
      ],
      "metadata": {
        "id": "hB7-nlx_TDVj"
      },
      "execution_count": null,
      "outputs": []
    },
    {
      "cell_type": "code",
      "source": [
        "print(files)"
      ],
      "metadata": {
        "colab": {
          "base_uri": "https://localhost:8080/"
        },
        "id": "QOwZA1DZaMCe",
        "outputId": "5ce949e6-7220-423f-ef87-8ebb8c4c76c3"
      },
      "execution_count": null,
      "outputs": [
        {
          "output_type": "stream",
          "name": "stdout",
          "text": [
            "March 07, 2024\n",
            "Remarks of President Joe Biden — State of the Union Address As Prepared for Delivery\n",
            "Home\n",
            "Briefing Room\n",
            "Speeches and Remarks\n",
            "The United States Capitol\n",
            "\n",
            "###\n",
            "\n",
            "Good evening. \n",
            "\n",
            "Mr. Speaker. Madam Vice President. Members of Congress. My Fellow Americans. \n",
            "\n",
            "In January 1941, President Franklin Roosevelt came to this chamber to speak to the nation. \n",
            "\n",
            "He said, “I address you at a moment unprecedented in the history of the Union.” \n",
            "\n",
            "Hitler was on the march. War was raging in Europe. \n",
            "\n",
            "President Roosevelt’s purpose was to wake up the Congress and alert the American people that this was no ordinary moment.   \n",
            "\n",
            "Freedom and democracy were under assault in the world. \n",
            "\n",
            "Tonight I come to the same chamber to address the nation. \n",
            "\n",
            "Now it is we who face an unprecedented moment in the history of the Union. \n",
            "\n",
            "And yes, my purpose tonight is to both wake up this Congress, and alert the American people that this is no ordinary moment either. \n",
            "\n",
            "Not since President Lincoln and the Civil War have freedom and democracy been under assault here at home as they are today. \n",
            "\n",
            "What makes our moment rare is that freedom and democracy are under attack, both at home and overseas, at the very same time. \n",
            "\n",
            "Overseas, Putin of Russia is on the march, invading Ukraine and sowing chaos throughout Europe and beyond. \n",
            "\n",
            "If anybody in this room thinks Putin will stop at Ukraine, I assure you, he will not. \n",
            "\n",
            "But Ukraine can stop Putin if we stand with Ukraine and provide the weapons it needs to defend itself. That is all Ukraine is asking. They are not asking for American soldiers. \n",
            "\n",
            "In fact, there are no American soldiers at war in Ukraine. And I am determined to keep it that way. \n",
            "\n",
            "But now assistance for Ukraine is being blocked by those who want us to walk away from our leadership in the world. \n",
            "\n",
            "It wasn’t that long ago when a Republican President, Ronald Reagan, thundered, “Mr. Gorbachev, tear down this wall.” \n",
            "\n",
            "Now, my predecessor, a former Republican President, tells Putin, “Do whatever the hell you want.” \n",
            "\n",
            "A former American President actually said that, bowing down to a Russian leader. \n",
            "\n",
            "It’s outrageous. It’s dangerous. It’s unacceptable. \n",
            "\n",
            "America is a founding member of NATO the military alliance of democratic nations created after World War II to prevent war and keep the peace.  \n",
            "\n",
            "Today, we’ve made NATO stronger than ever. \n",
            "\n",
            "We welcomed Finland to the Alliance last year, and just this morning, Sweden officially joined NATO, and their Prime Minister is here tonight. \n",
            "\n",
            "Mr. Prime Minister, welcome to NATO, the strongest military alliance the world has ever known. \n",
            "\n",
            "I say this to Congress: we must stand up to Putin. Send me the Bipartisan National Security Bill. \n",
            "\n",
            "History is watching. \n",
            "\n",
            "If the United States walks away now, it will put Ukraine at risk. \n",
            "\n",
            "Europe at risk. The free world at risk, emboldening others who wish to do us harm. \n",
            " \n",
            " \n",
            "\n",
            "My message to President Putin is simple.  \n",
            "\n",
            "We will not walk away. We will not bow down. I will not bow down. \n",
            "\n",
            "History is watching, just like history watched three years ago on January 6th. \n",
            "\n",
            "Insurrectionists stormed this very Capitol and placed a dagger at the throat of American democracy. \n",
            "\n",
            "Many of you were here on that darkest of days. \n",
            "\n",
            "We all saw with our own eyes these insurrectionists were not patriots. \n",
            " \n",
            "\n",
            "They had come to stop the peaceful transfer of power and to overturn the will of the people. \n",
            "\n",
            "January 6th and the lies about the 2020 election, and the plots to steal the election, posed the gravest threat to our democracy since the Civil War. \n",
            "\n",
            "But they failed. America stood strong and democracy prevailed. \n",
            "\n",
            "But we must be honest the threat remains and democracy must be defended. \n",
            "\n",
            "My predecessor and some of you here seek to bury the truth of January 6th. \n",
            "\n",
            "I will not do that. \n",
            "\n",
            "This is a moment to speak the truth and bury the lies. \n",
            "\n",
            "And here’s the simplest truth. You can’t love your country only when you win. \n",
            "\n",
            "As I’ve done ever since being elected to office, I ask you all, without regard to party, to join together and defend our democracy! \n",
            "\n",
            "Remember your oath of office to defend against all threats foreign and domestic. \n",
            "\n",
            "Respect free and fair elections! Restore trust in our institutions! And make clear –political violence  \n",
            "\n",
            "has absolutely no place in America! \n",
            "\n",
            "History is watching. \n",
            "\n",
            "And history is watching another assault on freedom.  \n",
            "\n",
            "Joining us tonight is Latorya Beasley, a social worker from Birmingham, Alabama. 14 months ago tonight, she and her husband welcomed a baby girl thanks to the miracle of IVF. \n",
            "\n",
            "She scheduled treatments to have a second child, but the Alabama Supreme Court shut down IVF treatments across the state, unleashed by the Supreme Court decision overturning Roe v. Wade. \n",
            "\n",
            "She was told her dream would have to wait. \n",
            "\n",
            "What her family has gone through should never have happened. And unless Congress acts, it could happen again. \n",
            "\n",
            "So tonight, let’s stand up for families like hers! \n",
            "\n",
            "To my friends across the aisle, don’t keep families waiting any longer. Guarantee the right to IVF nationwide! \n",
            "\n",
            "Like most Americans, I believe Roe v. Wade got it right. And I thank Vice President Harris for being an incredible leader, defending reproductive freedom and so much more. \n",
            "\n",
            "But my predecessor came to office determined  \n",
            "\n",
            "to see Roe v. Wade overturned. \n",
            "\n",
            "He’s the reason it was overturned. In fact, he brags about it. \n",
            "\n",
            "Look at the chaos that has resulted. \n",
            "\n",
            "Joining us tonight is Kate Cox, a wife and mother  \n",
            "\n",
            "from Dallas. \n",
            "\n",
            "When she became pregnant again, the fetus had a fatal condition. \n",
            "\n",
            "Her doctors told Kate that her own life and her ability to have children in the future were at risk if she didn’t act. \n",
            "\n",
            "Because Texas law banned abortion, Kate and her husband had to leave the state to get the care she needed. \n",
            "\n",
            "What her family has gone through should never have happened as well. But it is happening to so many others. \n",
            "\n",
            "There are state laws banning the right to choose, criminalizing doctors, and forcing survivors of rape and incest to leave their states as well to get the care they need. \n",
            "\n",
            "Many of you in this Chamber and my predecessor are promising to pass a national ban on reproductive freedom. \n",
            "\n",
            "My God, what freedoms will you take away next? \n",
            "\n",
            "In its decision to overturn Roe v. Wade the Supreme Court majority wrote, “Women are not without – \n",
            "\n",
            "electoral or political power.” \n",
            "\n",
            "No kidding. \n",
            "\n",
            "Clearly, those bragging about overturning Roe v. Wade have no clue about the power of women in America. \n",
            "\n",
            "They found out though when reproductive freedom   \n",
            "\n",
            "was on the ballot and won in 2022, 2023, and they will find out again, in 2024. \n",
            "\n",
            "If Americans send me a Congress that supports the right to choose, I promise you, I will restore Roe v. Wade as the law of the land again! \n",
            "\n",
            "America cannot go back. I am here tonight to show the way forward. Because I know how far we’ve come. \n",
            "\n",
            "Four years ago next week, before I came to office, our country was hit by the worst pandemic and the worst economic crisis in a century. \n",
            "\n",
            "Remember the fear. Record job losses. Remember the spike in crime. And the murder rate. \n",
            "\n",
            "A raging virus that would take more than 1 million American lives and leave millions of loved ones behind. \n",
            "\n",
            "A mental health crisis of isolation and loneliness. \n",
            "\n",
            "A president, my predecessor, who failed the most basic duty. Any President owes the American people the duty to care. \n",
            "\n",
            "That is unforgivable. \n",
            "\n",
            "I came to office determined to get us through one of the toughest periods in our nation’s history. \n",
            "\n",
            "And we have. It doesn’t make the news but in thousands of cities and towns the American people are writing the greatest comeback story never told. \n",
            "\n",
            "So let’s tell that story here and now. \n",
            "\n",
            "America’s comeback is building a future of American possibilities, building an economy from the middle out and the bottom up, not the top down, investing in all of America, in all Americans to make sure everyone has a fair shot and we leave no one behind! \n",
            "\n",
            "The pandemic no longer controls our lives. The vaccines that saved us from COVID are now being used to help beat cancer. \n",
            "\n",
            "Turning setback into comeback. \n",
            "\n",
            "That’s America! \n",
            "\n",
            "I inherited an economy that was on the brink. Now our economy is the envy of the world! \n",
            "\n",
            "15 million new jobs in just three years – that’s a record! \n",
            "\n",
            "Unemployment at 50-year lows. \n",
            "\n",
            "A record 16 million Americans are starting small businesses and each one is an act of hope. \n",
            "\n",
            "With historic job growth and small business growth for Black, Hispanic, and Asian-Americans. \n",
            "\n",
            "800,000 new manufacturing jobs in America and counting. \n",
            "\n",
            "More people have health insurance today than ever before. \n",
            "\n",
            "The racial wealth gap is the smallest it’s been in 20 years. \n",
            "\n",
            "Wages keep going up and inflation keeps coming down! \n",
            "\n",
            "Inflation has dropped from 9% to 3% – the lowest in the world! \n",
            "\n",
            "And trending lower. \n",
            "\n",
            "And now instead of importing foreign products and exporting American jobs, we’re exporting American products and creating American jobs – right here in America where they belong! \n",
            " \n",
            " \n",
            "\n",
            "And the American people are beginning to feel it. \n",
            "\n",
            "Consumer studies show consumer confidence is soaring. \n",
            "\n",
            "Buy American has been the law of the land since the 1930s.  \n",
            " \n",
            "\n",
            "Past administrations including my predecessor failed to Buy American. \n",
            "\n",
            "Not any more. \n",
            "\n",
            "On my watch, federal projects like helping to build American roads bridges and highways will be made with American products built by American workers creating good-paying American jobs! \n",
            "\n",
            "Thanks to my Chips and Science Act the United States is investing more in research and development than ever before. \n",
            "\n",
            "During the pandemic a shortage of semiconductor chips drove up prices for everything from cell phones to automobiles.  \n",
            "\n",
            "Well instead of having to import semiconductor chips, which America invented I might add, private companies are now investing billions of dollars to build new chip factories here in America! \n",
            "\n",
            "Creating tens of thousands of jobs many of them paying over $100,000 a year and don’t require a college degree. \n",
            "\n",
            "In fact my policies have attracted $650 Billion of private sector investments in clean energy and advanced manufacturing creating tens of thousands of jobs here in America! \n",
            "\n",
            "Thanks to our Bipartisan Infrastructure Law, 46,000 new projects have been announced across your communities – modernizing our roads and bridges, ports and airports, and public transit systems. \n",
            "\n",
            "Removing poisonous lead pipes so every child can drink clean water without risk of getting brain damage. \n",
            "\n",
            "Providing affordable high speed internet for every American no matter where you live. \n",
            "\n",
            "Urban, suburban, and rural communities — in red states and blue. \n",
            "\n",
            "Record investments in tribal communities. \n",
            "\n",
            "Because of my investments, family farms are better be able to stay in the family and children and grandchildren won’t have to leave home to make a living.  \n",
            "\n",
            "It’s transformative.  \n",
            "\n",
            " \n",
            "A great comeback story is Belvidere, Illinois. Home to an auto plant for nearly 60 years.  \n",
            " \n",
            "\n",
            "Before I came to office the plant was on its way to shutting down. \n",
            "\n",
            " \n",
            "Thousands of workers feared for their livelihoods. Hope was fading. \n",
            " \n",
            "\n",
            "Then I was elected to office and we raised Belvidere repeatedly with the auto company knowing unions make all the difference. \n",
            "\n",
            "The UAW worked like hell to keep the plant open and get those jobs back. And together, we succeeded! \n",
            "\n",
            "Instead of an auto factory shutting down an auto factory is re-opening and a new state-of-the art battery factory is being built to power those cars. \n",
            "\n",
            "Instead of a town being left behind it’s a community moving forward again! \n",
            "\n",
            "Because instead of watching auto jobs of the future go overseas 4,000 union workers with higher wages will be building that future, in Belvidere, here in America! \n",
            "\n",
            "Here tonight is UAW President, Shawn Fain, a great friend, and a great labor leader. \n",
            "\n",
            "And Dawn Simms, a third generation UAW worker  in Belvidere. \n",
            "\n",
            "Shawn, I was proud to be the first President in American history to walk a picket line. \n",
            "\n",
            "And today Dawn has a job in her hometown providing stability for her family and pride and dignity. \n",
            "\n",
            "Showing once again, Wall Street didn’t build this country! \n",
            "\n",
            "The middle class built this country! And unions built the middle class! \n",
            "\n",
            "When Americans get knocked down, we get back up! \n",
            "\n",
            "We keep going! \n",
            "\n",
            "That’s America! That’s you, the American people! \n",
            "\n",
            "It’s because of you America is coming back!  \n",
            "\n",
            "It’s because of you, our future is brighter! \n",
            "\n",
            "And it’s because of you that tonight we can proudly say the State of our Union is strong and getting stronger!  \n",
            " \n",
            "\n",
            "Tonight I want to talk about the future of possibilities that we can build together. \n",
            "\n",
            "A future where the days of trickle-down economics are over and the wealthy and biggest corporations no longer get all the breaks. \n",
            "\n",
            "I grew up in a home where not a lot trickled down on my Dad’s kitchen table. \n",
            "\n",
            "That’s why I’m determined to turn things around so the middle class does well the poor have a way up and the wealthy still does well. \n",
            "\n",
            "We all do well. \n",
            "\n",
            "And there’s more to do to make sure you’re feeling the benefits of all we’re doing. \n",
            "\n",
            "Americans pay more for prescription drugs than anywhere else. \n",
            "\n",
            "It’s wrong and I’m ending it. \n",
            "\n",
            "With a law I proposed and signed and not one Republican voted for we finally beat Big Pharma! \n",
            "\n",
            "Instead of paying $400 a month for insulin seniors with diabetes only have to pay $35 a month! \n",
            "\n",
            "And now I want to cap the cost of insulin at $35 a month for every American who needs it! \n",
            "\n",
            "For years people have talked about it but I finally got it done and gave Medicare the power to negotiate lower prices for prescription drugs just like the VA does for our veterans. \n",
            "\n",
            "That’s not just saving seniors money. \n",
            "\n",
            "It’s saving taxpayers money cutting the federal deficit by $160 Billion because Medicare will no longer have to pay exorbitant prices to Big Pharma. \n",
            "\n",
            "This year Medicare is negotiating lower prices for some of the costliest drugs on the market that treat everything from heart disease to arthritis. \n",
            "\n",
            "Now it’s time to go further and give Medicare the power to negotiate lower prices for 500 drugs over the next decade. \n",
            "\n",
            "That will not only save lives it will save taxpayers another $200 Billion! \n",
            "\n",
            "Starting next year that same law caps total prescription drug costs for seniors on Medicare at $2,000 a year even for expensive cancer drugs that can cost $10,000, $12,000, $15,000 a year. \n",
            "\n",
            "Now I want to cap prescription drug costs at $2,000 a year for everyone! \n",
            "\n",
            "Folks Obamacare, known as the Affordable Care Act is still a very big deal. \n",
            "\n",
            "Over one hundred million of you can no longer be denied health insurance because of pre-existing conditions. \n",
            "\n",
            "But my predecessor and many in this chamber want to take that protection away by repealing the Affordable Care Act I won’t let that happen! \n",
            "\n",
            "We stopped you 50 times before and we will stop you again! \n",
            "\n",
            "In fact I am protecting it and expanding it. \n",
            "\n",
            "I enacted tax credits that save $800 per person per year reducing health care premiums for millions of working families. \n",
            "\n",
            "Those tax credits expire next year. \n",
            "\n",
            "I want to make those savings permanent! \n",
            "\n",
            "Women are more than half of our population but research on women’s health has always been underfunded.  \n",
            "\n",
            "That’s why we’re launching the first-ever White House Initiative on Women’s Health Research, led by Jill who is doing an incredible job as First Lady. \n",
            "\n",
            "Pass my plan for $12 Billion to transform women’s health research and benefit millions of lives across America! \n",
            "\n",
            "I know the cost of housing is so important to you.  \n",
            "\n",
            "If inflation keeps coming down mortgage rates will come down as well. \n",
            "\n",
            "But I’m not waiting. \n",
            "\n",
            "I want to provide an annual tax creditthat will give Americans $400 a month for the next two years as mortgage rates come down to put toward their mortgage when they buy a first home or trade up for a little more space. \n",
            "\n",
            "My Administration is also eliminating title insurance fees for federally backed mortgages. \n",
            "\n",
            "When you refinance your home this can save you $1,000 or more. \n",
            "\n",
            "For millions of renters, we’re cracking down on big landlords who break antitrust laws by price-fixing and driving up rents.  \n",
            "\n",
            "I’ve cut red tape so more builders can get federal financing, which is already helping build a record 1.7 million housing units nationwide. \n",
            "\n",
            "Now pass my plan to build and renovate 2 million  affordable homes and bring those rents down! \n",
            "\n",
            "To remain the strongest economy in the world we need the best education system in the world. \n",
            "\n",
            "I want to give every child a good start by providing access to pre-school for 3- and 4-year-olds. \n",
            "\n",
            "Studies show that children who go to pre-school are nearly 50% more likely to finish high school and go on to earn a 2- or 4-year degree no matter their background. \n",
            "\n",
            "I want to expand high-quality tutoring and summer learning time and see to it that every child learns to read by third grade. \n",
            "\n",
            "I’m also connecting businesses and high schools so students get hands-on experience and a path to a good-paying job whether or not they go to college. \n",
            "\n",
            "And I want to make college more affordable. \n",
            "\n",
            "Let’s continue increasing Pell Grants for working- and middle-class families and increase our record investments in HBCUs and Hispanic and Minority-serving Institutions \n",
            "\n",
            "I fixed student loan programs to reduce the burden  of student debt for nearly 4 Million Americans including nurses firefighters and others in public service like Keenan Jones a public-school educator in Minnesota who’s here with us tonight. \n",
            "\n",
            "He’s educated hundreds of students so they can go to college now he can help his own daughter pay for college.  \n",
            "\n",
            "Such relief is good for the economy because folks are now able to buy a home start a business even start a family. \n",
            "\n",
            "While we’re at it I want to give public school teachers a raise! \n",
            "\n",
            "Now let me speak to a question of fundamental fairness for all Americans. \n",
            "\n",
            "I’ve been delivering real results in a fiscally responsible way. \n",
            "\n",
            "I’ve already cut the federal deficit by over one trillion dollars. \n",
            "\n",
            "I signed a bipartisan budget deal that will cut another trillion dollars over the next decade. \n",
            "\n",
            "And now it’s my goal to cut the federal deficit $3 trillion more by making big corporations and the very wealthy finally pay their fair share.  \n",
            "\n",
            "Look, I’m a capitalist. \n",
            "\n",
            "If you want to make a million bucks – great! \n",
            "\n",
            "Just pay your fair share in taxes. \n",
            "\n",
            "A fair tax code is how we invest in the things –  \n",
            "\n",
            "that make a country great, health care, education, defense, and more. \n",
            "\n",
            "But here’s the deal. \n",
            "\n",
            "The last administration enacted a $2 Trillion tax cut that overwhelmingly benefits the very wealthy and the biggest corporations and exploded the federal deficit. \n",
            "\n",
            "They added more to the national debt than in any presidential term in American history. \n",
            "\n",
            "For folks at home does anybody really think the tax code is fair? \n",
            "\n",
            "Do you really think the wealthy and big corporations need another $2 trillion in tax breaks? \n",
            "\n",
            "I sure don’t. I’m going to keep fighting like hell to make it fair! \n",
            "\n",
            "Under my plan nobody earning less than $400,000 will pay an additional penny in federal taxes. \n",
            "\n",
            "Nobody. Not one penny. \n",
            "\n",
            "In fact the Child Tax Credit I passed during the pandemic cut taxes for millions of working families and cut child poverty in HALF. \n",
            "\n",
            "Restore the Child Tax Credit because no child should go hungry in this country! \n",
            "\n",
            "The way to make the tax code fair is to make big corporations and the very wealthy finally pay their share. \n",
            "\n",
            "In 2020 55 of the biggest companies in America made $40 Billion in profits and paid zero in federal income taxes.  \n",
            "\n",
            "Not any more! \n",
            "\n",
            "Thanks to the law I wrote and signed big companies  now have to pay a minimum of 15%.  \n",
            "\n",
            "But that’s still less than working people pay in federal taxes. \n",
            "\n",
            "It’s time to raise the corporate minimum tax to at least 21% so every big corporation finally begins to pay their fair share. \n",
            "\n",
            "I also want to end the tax breaks for Big Pharma, Big Oil, private jets, and massive executive pay! \n",
            "\n",
            "End it now! \n",
            "\n",
            "There are 1,000 billionaires in America.  \n",
            "\n",
            "You know what the average federal tax rate for these billionaires is? 8.2 percent! \n",
            "\n",
            "That’s far less than the vast majority of Americans pay.  \n",
            "\n",
            "No billionaire should pay a lower tax rate than a teacher, a sanitation worker, a nurse! \n",
            "\n",
            "That’s why I’ve proposed a minimum tax of 25% for billionaires. Just 25%. \n",
            "\n",
            "That would raise $500 Billion over the next 10 years. \n",
            "\n",
            "Imagine what that could do for America. Imagine a future with affordable child care so millions of families can get the care they need and still go to work and help grow the economy. \n",
            "\n",
            "Imagine a future with paid leave because no one should have to choose between working and taking care of yourself or a sick family member.   \n",
            "\n",
            "Imagine a future with home care and elder care so seniors and people living with disabilities can stay in their homes and family caregivers get paid what they deserve! \n",
            "\n",
            "Tonight, let’s all agree once again to stand up for seniors! \n",
            "\n",
            "Many of my Republican friends want to put Social Security on the chopping block.  \n",
            "\n",
            "If anyone here tries to cut Social Security or Medicare or raise the retirement age I will stop them! \n",
            "\n",
            "Working people who built this country pay more into Social Security than millionaires and billionaires do. It’s not fair. \n",
            "\n",
            "We have two ways to go on Social Security. \n",
            "\n",
            "Republicans will cut Social Security and give more tax cuts to the wealthy. \n",
            "\n",
            "I will protect and strengthen Social Security and make the wealthy pay their fair share! \n",
            "\n",
            "Too many corporations raise their prices to pad their profits charging you more and more for less and less. \n",
            "\n",
            "That’s why we’re cracking down on corporations that engage in price gouging or deceptive pricing from food to health care to housing. \n",
            "\n",
            "In fact, snack companies think you won’t notice when they charge you just as much for the same size bag  \n",
            "\n",
            "but with fewer chips in it. \n",
            "\n",
            "Pass Senator Bob Casey’s bill to put a stop to shrinkflation! \n",
            "\n",
            "I’m also getting rid of junk fees those hidden fees added at the end of your bills without your knowledge. My administration just announced we’re cutting credit card late fees from $32 to just $8. \n",
            "\n",
            "The banks and credit card companies don’t like it. \n",
            "\n",
            "Why? \n",
            "\n",
            "I’m saving American families $20 billion a year with all of the junk fees I’m eliminating. \n",
            "\n",
            "And I’m not stopping there. \n",
            "\n",
            "My Administration has proposed rules to make cable travel utilities and online ticket sellers tell you the total price upfront so there are no surprises. \n",
            "\n",
            "It matters. \n",
            "\n",
            "And so does this. \n",
            "\n",
            "In November, my team began serious negotiations with a bipartisan group of Senators. \n",
            "\n",
            "The result was a bipartisan bill with the toughest set of border security reforms we’ve ever seen  \n",
            "\n",
            "in this country. \n",
            "\n",
            "That bipartisan deal would hire 1,500 more border security agents and officers.  \n",
            "\n",
            "100 more immigration judges to help tackle a backload of 2 million cases. \n",
            "\n",
            "4,300 more asylum officers and new policies so they can resolve cases in 6 months instead of 6 years. \n",
            "\n",
            "100 more high-tech drug detection machines to significantly increase the ability to screen and stop vehicles from smuggling fentanyl into America. \n",
            "\n",
            "This bill would save lives and bring order to the border. \n",
            "\n",
            "It would also give me as President new emergency authority to temporarily shut down the border  when the number of migrants at the border is overwhelming.  \n",
            "\n",
            "The Border Patrol Union endorsed the bill. \n",
            "\n",
            "The Chamber of Commerce endorsed the bill. \n",
            "\n",
            "I believe that given the opportunity a majority of the House and Senate would endorse it as well. \n",
            "\n",
            "But unfortunately, politics have derailed it so far. \n",
            "\n",
            "I’m told my predecessor called Republicans in Congress and demanded they block the bill. He feels it would be a political win for me and a political loser for him. \n",
            "\n",
            "It’s not about him or me.  \n",
            "\n",
            "It’d be a winner for America! \n",
            "\n",
            "My Republican friends you owe it to the American people to get this bill done.   \n",
            "\n",
            "We need to act. \n",
            "\n",
            "And if my predecessor is watching instead of playing politics and pressuring members of Congress to block this bill, join me in telling Congress to pass it! \n",
            "\n",
            "We can do it together. But here’s what I will not do. \n",
            "\n",
            "I will not demonize immigrants saying they “poison the blood of our country” as he said in his own words. \n",
            "\n",
            "I will not separate families. \n",
            "\n",
            "I will not ban people from America because of their faith. \n",
            "\n",
            "Unlike my predecessor, on my first day in office I introduced a comprehensive plan to fix our immigration system, secure the border, and provide a pathway to citizenship for Dreamers and so much more. \n",
            "\n",
            "Because unlike my predecessor, I know who we are  \n",
            "\n",
            "as Americans. \n",
            "\n",
            "We are the only nation in the world with a heart and soul that draws from old and new. \n",
            "\n",
            "Home to Native Americans whose ancestors have been here for thousands of years. Home to people from every place on Earth. \n",
            "\n",
            "Some came freely. \n",
            "\n",
            "Some chained by force. \n",
            "\n",
            "Some when famine struck, like my ancestral family in Ireland. \n",
            "\n",
            "Some to flee persecution. \n",
            "\n",
            "Some to chase dreams that are impossible anywhere but here in America. \n",
            "\n",
            "That’s America, where we all come from somewhere, but we are all Americans. \n",
            "\n",
            "We can fight about the border, or we can fix it. I’m ready to fix it. \n",
            "\n",
            "Send me the border bill now! \n",
            "\n",
            "A transformational moment in our history happened 59 years ago today in Selma, Alabama. \n",
            "\n",
            "Hundreds of foot soldiers for justice marched across the Edmund Pettus Bridge, named after a Grand Dragon of the KKK, to claim their fundamental right to vote.  \n",
            "\n",
            "They were beaten bloodied and left for dead. \n",
            "\n",
            "Our late friend and former colleague John Lewis was at the march.  \n",
            "\n",
            "We miss him. \n",
            "\n",
            "Joining us tonight are other marchers who were there including Betty May Fikes, known as the “Voice of Selma”. \n",
            "\n",
            "A daughter of gospel singers and preachers, she sang songs of prayer and protest on that Bloody Sunday, \n",
            "\n",
            "to help shake the nation’s conscience. Five months later, the Voting Rights Act was signed into law.   \n",
            " \n",
            "\n",
            "But 59 years later, there are forces taking us back in time. \n",
            "\n",
            "Voter suppression. Election subversion. Unlimited dark money. Extreme gerrymandering.  \n",
            "\n",
            "John Lewis was a great friend to many of us here. But if you truly want to honor him and all the heroes who marched with him, then it’s time for more than just talk. \n",
            "\n",
            "Pass and send me the Freedom to Vote Act and the John Lewis Voting Rights Act! \n",
            "\n",
            "And stop denying another core value of America our diversity across American life. \n",
            "\n",
            "Banning books. \n",
            "\n",
            "It’s wrong! \n",
            "\n",
            "Instead of erasing history, let’s make history!  \n",
            "\n",
            "I want to protect other fundamental rights! \n",
            "\n",
            "Pass the Equality Act, and my message to transgender Americans: I have your back! \n",
            "\n",
            "Pass the PRO Act for workers rights! And raise the federal minimum wage because every worker has the right to earn a decent living! \n",
            "\n",
            "We are also making history by confronting the climate crisis, not denying it. \n",
            "\n",
            "I’m taking the most significant action on climate ever in the history of the world. \n",
            "\n",
            "I am cutting our carbon emissions in half by 2030. \n",
            "\n",
            "Creating tens of thousands of clean-energy jobs, like the IBEW workers building and installing 500,000 electric vehicle charging stations. \n",
            "\n",
            "Conserving 30% of America’s lands and waters  by 2030. \n",
            "\n",
            "Taking historic action on environmental justice for fence-line communities smothered by the legacy of pollution.  \n",
            "\n",
            "And patterned after the Peace Corps and Ameri Corps, I’ve launched a Climate Corps to put 20,000 young people to work at the forefront of our clean energy future. \n",
            "\n",
            "I’ll triple that number this decade. \n",
            "\n",
            "All Americans deserve the freedom to be safe, and America is safer today than when I took office. \n",
            "\n",
            "The year before I took office, murders went up 30% nationwide the biggest increase in history. \n",
            "\n",
            "That was then. \n",
            "\n",
            "Now, through my American Rescue Plan, which every Republican voted against, I’ve made the largest investment in public safety ever. \n",
            "\n",
            "Last year, the murder rate saw the sharpest decrease in history, and violent crime fell to one of the lowest levels in more than 50 years.  \n",
            "\n",
            "But we have more to do. \n",
            "\n",
            "Help cities and towns invest in more community police officers, more mental health workers, and more community violence intervention.  \n",
            "\n",
            "Give communities the tools to crack down on gun crime, retail crime, and carjacking. \n",
            "\n",
            "Keep building public trust, as I’ve been doing by taking executive action on police reform, and calling for it to be the law of the land, directing my Cabinet to review the federal classification of marijuana, and expunging thousands of convictions  for mere possession, because no one should be jailed for using or possessing marijuana! \n",
            "\n",
            "To take on crimes of domestic violence, I am ramping up federal enforcement of the Violence Against Women Act, that I proudly wrote, so we can finally end the scourge of violence against women in America!  \n",
            "\n",
            "And there’s another kind of violence I want to stop. \n",
            "\n",
            "With us tonight is Jasmine, whose 9-year-old sister Jackie was murdered with 21 classmates and teachers at her elementary school in Uvalde, Texas. \n",
            "\n",
            "Soon after it happened, Jill and I went to Uvalde and spent hours with the families. \n",
            "\n",
            "We heard their message, and so should everyone in this chamber do something. \n",
            "\n",
            "I did do something by establishing the first-ever Office of Gun Violence Prevention in the White House that Vice President Harris is leading. \n",
            "\n",
            "Meanwhile, my predecessor told the NRA he’s proud he did nothing on guns when he was President. \n",
            "\n",
            "After another school shooting in Iowa he said we should just “get over it.” \n",
            "\n",
            "I say we must stop it.  \n",
            "\n",
            "I’m proud we beat the NRA when I signed the most significant gun safety law in nearly 30 years! \n",
            "\n",
            "Now we must beat the NRA again! \n",
            "\n",
            "I’m demanding a ban on assault weapons and high-capacity magazines! \n",
            "\n",
            "Pass universal background checks! \n",
            "\n",
            "None of this violates the Second Amendment or vilifies responsible gun owners. \n",
            "\n",
            "As we manage challenges at home, we’re also managing crises abroad including in the Middle East. \n",
            "\n",
            "I know the last five months have been gut-wrenching for so many people, for the Israeli people, the Palestinian people, and so many here in America. \n",
            "\n",
            "This crisis began on October 7th with a massacre by the terrorist group Hamas. \n",
            "\n",
            "1,200 innocent people women and girls men and boys slaughtered, many enduring sexual violence. \n",
            "\n",
            "The deadliest day for the Jewish people since the Holocaust. \n",
            "\n",
            "250 hostages taken. \n",
            "\n",
            "Here in the chamber tonight are American families whose loved ones are still being held by Hamas. \n",
            "\n",
            "I pledge to all the families that we will not rest until we bring their loved ones home. \n",
            "\n",
            "We will also work around the clock to bring home Evan and Paul, Americans being unjustly detained all around the world. \n",
            "\n",
            "Israel has a right to go after Hamas. \n",
            "\n",
            "Hamas could end this conflict today by releasing the hostages, laying down arms, and surrendering those responsible for October 7th. \n",
            "\n",
            "Israel has an added burden because Hamas hides and operates among the civilian population. But Israel also has a fundamental responsibility to protect innocent civilians in Gaza. \n",
            "\n",
            "This war has taken a greater toll on innocent civilians than all previous wars in Gaza combined. \n",
            "\n",
            "More than 30,000 Palestinians have been killed. \n",
            "\n",
            "Most of whom are not Hamas. \n",
            "\n",
            "Thousands and thousands are innocent women and children. \n",
            "\n",
            "Girls and boys also orphaned. \n",
            "\n",
            "Nearly 2 million more Palestinians under bombardment or displaced. \n",
            "\n",
            "Homes destroyed, neighborhoods in rubble, cities in ruin. \n",
            "\n",
            "Families without food, water, medicine. \n",
            "\n",
            "It’s heartbreaking. \n",
            "\n",
            "We’ve been working non-stop to establish an immediate ceasefire that would last for at least six weeks. \n",
            "\n",
            "It would get the hostages home, ease the intolerable humanitarian crisis, and build toward something more enduring. \n",
            "\n",
            "The United States has been leading international efforts to get more humanitarian assistance into Gaza. \n",
            "\n",
            "Tonight, I’m directing the U.S. military to lead an emergency mission to establish a temporary pier in the Mediterranean on the Gaza coast that can receive large ships carrying food, water, medicine and temporary shelters. \n",
            "\n",
            "No U.S. boots will be on the ground. \n",
            "\n",
            "This temporary pier would enable a massive increase in the amount of humanitarian assistance getting into Gaza every day. \n",
            "\n",
            "But Israel must also do its part. \n",
            "\n",
            "Israel must allow more aid into Gaza and ensure that humanitarian workers aren’t caught in the cross fire. \n",
            "\n",
            "To the leadership of Israel I say this. \n",
            "\n",
            "Humanitarian assistance cannot be a secondary consideration or a bargaining chip. \n",
            "\n",
            "Protecting and saving innocent lives has to be a priority. \n",
            "\n",
            "As we look to the future, the only real solution is a two-state solution. \n",
            "\n",
            "I say this as a lifelong supporter of Israel and the only American president to visit Israel in wartime. \n",
            "\n",
            "There is no other path that guarantees Israel’s security and democracy. \n",
            "\n",
            "There is no other path that guarantees Palestinians can live with peace and dignity. \n",
            "\n",
            "There is no other path that guarantees peace between Israel and all of its Arab neighbors, including Saudi Arabia.  \n",
            "\n",
            "Creating stability in the Middle East also means containing the threat posed by Iran.  \n",
            "\n",
            "That’s why I built a coalition of more than a dozen countries to defend international shipping and freedom of navigation in the Red Sea. \n",
            "\n",
            "I’ve ordered strikes to degrade Houthi capabilities and defend U.S. Forces in the region. \n",
            "\n",
            "As Commander in Chief, I will not hesitate to direct further measures to protect our people and military personnel.  \n",
            "\n",
            "For years, all I’ve heard from my Republican friends and so many others is China’s on the rise and America is falling behind. \n",
            "\n",
            "They’ve got it backward. \n",
            "\n",
            "America is rising. \n",
            "\n",
            "We have the best economy in the world. \n",
            "\n",
            "Since I’ve come to office, our GDP is up. \n",
            "\n",
            "And our trade deficit with China is down to the lowest point in over a decade. \n",
            "\n",
            "We’re standing up against China’s unfair economic practices. \n",
            "\n",
            "And standing up for peace and stability across the Taiwan Strait. \n",
            "\n",
            "I’ve revitalized our partnerships and alliances in the Pacific. \n",
            "\n",
            "I’ve made sure that the most advanced American technologies can’t be used in China’s weapons. \n",
            "\n",
            "Frankly for all his tough talk on China, it never occurred to my predecessor to do that. \n",
            "\n",
            "We want competition with China, but not conflict.  \n",
            "\n",
            "And we’re in a stronger position to win the competition for the 21st Century against China or anyone else for that matter. \n",
            "\n",
            "Here at home I’ve signed over 400 bipartisan bills.  \n",
            "\n",
            "But there’s more to do to pass my Unity Agenda. \n",
            "\n",
            "Strengthen penalties on fentanyl trafficking. \n",
            "\n",
            "Pass bipartisan privacy legislation to protect our children online. \n",
            "\n",
            "Harness the promise of A.I. and protect us from its peril.  \n",
            "\n",
            "Ban A.I. voice impersonation and more! \n",
            "\n",
            "And keep our one truly sacred obligation, to train and equip those we send into harm’s way and care for them and their families when they come home, and when they don’t.  \n",
            "\n",
            "That’s why I signed the PACT Act, one of the most significant laws ever, helping millions of veterans who were exposed to toxins and who now are battling more than 100 cancers. \n",
            "\n",
            "Many of them didn’t come home. \n",
            "\n",
            "We owe them and their families. \n",
            "\n",
            "And we owe it to ourselves to keep supporting our new health research agency called ARPA-H and remind us that we can do big things like end cancer as we know it! \n",
            "\n",
            "Let me close with this. \n",
            "\n",
            "I know I may not look like it, but I’ve been around a while. \n",
            "\n",
            "And when you get to my age certain things become clearer than ever before. \n",
            "\n",
            "I know the American story. \n",
            "\n",
            "Again and again I’ve seen the contest between competing forces in the battle for the soul of our nation. \n",
            "\n",
            "Between those who want to pull America back to the past and those who want to move America into the future. \n",
            "\n",
            "My lifetime has taught me to embrace freedom and democracy. \n",
            "\n",
            "A future based on the core values that have defined America. \n",
            "\n",
            "Honesty. Decency. Dignity. Equality. \n",
            "\n",
            "To respect everyone. To give everyone a fair shot. To give hate no safe harbor.  \n",
            "\n",
            "Now some other people my age see a different story.  \n",
            "\n",
            "An American story of resentment, revenge, and retribution. \n",
            "\n",
            "That’s not me. \n",
            "\n",
            "I was born amid World War II when America stood for freedom in the world. \n",
            "\n",
            "I grew up in Scranton, Pennsylvania and Claymont, Delaware among working people who built this country. \n",
            "\n",
            "I watched in horror as two of my heroes, Dr. King and Bobby Kennedy, were assassinated and their legacies inspired me to pursue a career in service. \n",
            "\n",
            "A public defender, county councilman, elected United States Senator at 29, then Vice President, to our first Black President, now President, with our first woman Vice President. \n",
            "\n",
            "In my career I’ve been told I’m too young and I’m too old. \n",
            "\n",
            "Whether young or old, I’ve always known what endures. \n",
            "\n",
            "Our North Star. \n",
            "\n",
            "The very idea of America, that we are all created equal and deserve to be treated equally throughout our lives. \n",
            "\n",
            "We’ve never fully lived up to that idea, but we’ve never walked away from it either. \n",
            "\n",
            "And I won’t walk away from it now. \n",
            "\n",
            "My fellow Americans the issue facing our nation isn’t how old we are it’s how old our ideas are? \n",
            "\n",
            "Hate, anger, revenge, retribution are among the oldest of ideas. \n",
            "\n",
            "But you can’t lead America with ancient ideas that only take us back. \n",
            "\n",
            "To lead America, the land of possibilities, you need a vision for the future of what America can and should be. \n",
            "\n",
            "Tonight you’ve heard mine. \n",
            "\n",
            "I see a future where we defend democracy not diminish it. \n",
            "\n",
            "I see a future where we restore the right to choose and protect other freedoms not take them away. \n",
            "\n",
            "I see a future where the middle class finally has a fair shot and the wealthy finally have to pay their fair share in taxes. \n",
            "\n",
            "I see a future where we save the planet from the climate crisis and our country from gun violence. \n",
            "\n",
            "Above all, I see a future for all Americans! \n",
            "\n",
            "I see a country for all Americans! \n",
            "\n",
            "And I will always be a president for all Americans! \n",
            "\n",
            "Because I believe in America! \n",
            "\n",
            "I believe in you the American people. \n",
            "\n",
            "You’re the reason I’ve never been more optimistic about our future! \n",
            "\n",
            "So let’s build that future together! \n",
            "\n",
            "Let’s remember who we are! \n",
            "\n",
            "We are the United States of America. \n",
            "\n",
            "There is nothing beyond our capacity when we act together! \n",
            "\n",
            "May God bless you all. \n",
            "\n",
            "May God protect our troops.\n",
            "\n",
            "###\n"
          ]
        }
      ]
    },
    {
      "cell_type": "markdown",
      "source": [
        "### **4. Split the document**\n",
        "* **Context Window: The capability or limit of the LLM to process and understand the words**"
      ],
      "metadata": {
        "id": "w7IVd9tCaZhy"
      }
    },
    {
      "cell_type": "code",
      "source": [
        "text_splitter = CharacterTextSplitter(\n",
        "    chunk_size = 1000,     # Size of the split\n",
        "    chunk_overlap = 200,   # Overlapping is done to make sure that the context is continuous and maintain the context\n",
        "    length_function = len\n",
        ")"
      ],
      "metadata": {
        "id": "gc6ol97qaOfw"
      },
      "execution_count": null,
      "outputs": []
    },
    {
      "cell_type": "code",
      "source": [
        "text = text_splitter.create_documents([files])"
      ],
      "metadata": {
        "id": "SHnaujYka4Vg"
      },
      "execution_count": null,
      "outputs": []
    },
    {
      "cell_type": "code",
      "source": [
        "text"
      ],
      "metadata": {
        "colab": {
          "base_uri": "https://localhost:8080/"
        },
        "id": "-3KQIR9ucSBV",
        "outputId": "ee932f5d-d631-4a82-e390-8b90e8ab53b2"
      },
      "execution_count": null,
      "outputs": [
        {
          "output_type": "execute_result",
          "data": {
            "text/plain": [
              "[Document(metadata={}, page_content='March 07, 2024\\nRemarks of President Joe Biden — State of the Union Address As Prepared for Delivery\\nHome\\nBriefing Room\\nSpeeches and Remarks\\nThe United States Capitol\\n\\n###\\n\\nGood evening. \\n\\nMr. Speaker. Madam Vice President. Members of Congress. My Fellow Americans. \\n\\nIn January 1941, President Franklin Roosevelt came to this chamber to speak to the nation. \\n\\nHe said, “I address you at a moment unprecedented in the history of the Union.” \\n\\nHitler was on the march. War was raging in Europe. \\n\\nPresident Roosevelt’s purpose was to wake up the Congress and alert the American people that this was no ordinary moment.   \\n\\nFreedom and democracy were under assault in the world. \\n\\nTonight I come to the same chamber to address the nation. \\n\\nNow it is we who face an unprecedented moment in the history of the Union. \\n\\nAnd yes, my purpose tonight is to both wake up this Congress, and alert the American people that this is no ordinary moment either.'),\n",
              " Document(metadata={}, page_content='And yes, my purpose tonight is to both wake up this Congress, and alert the American people that this is no ordinary moment either. \\n\\nNot since President Lincoln and the Civil War have freedom and democracy been under assault here at home as they are today. \\n\\nWhat makes our moment rare is that freedom and democracy are under attack, both at home and overseas, at the very same time. \\n\\nOverseas, Putin of Russia is on the march, invading Ukraine and sowing chaos throughout Europe and beyond. \\n\\nIf anybody in this room thinks Putin will stop at Ukraine, I assure you, he will not. \\n\\nBut Ukraine can stop Putin if we stand with Ukraine and provide the weapons it needs to defend itself. That is all Ukraine is asking. They are not asking for American soldiers. \\n\\nIn fact, there are no American soldiers at war in Ukraine. And I am determined to keep it that way. \\n\\nBut now assistance for Ukraine is being blocked by those who want us to walk away from our leadership in the world.'),\n",
              " Document(metadata={}, page_content='But now assistance for Ukraine is being blocked by those who want us to walk away from our leadership in the world. \\n\\nIt wasn’t that long ago when a Republican President, Ronald Reagan, thundered, “Mr. Gorbachev, tear down this wall.” \\n\\nNow, my predecessor, a former Republican President, tells Putin, “Do whatever the hell you want.” \\n\\nA former American President actually said that, bowing down to a Russian leader. \\n\\nIt’s outrageous. It’s dangerous. It’s unacceptable. \\n\\nAmerica is a founding member of NATO the military alliance of democratic nations created after World War II to prevent war and keep the peace.  \\n\\nToday, we’ve made NATO stronger than ever. \\n\\nWe welcomed Finland to the Alliance last year, and just this morning, Sweden officially joined NATO, and their Prime Minister is here tonight. \\n\\nMr. Prime Minister, welcome to NATO, the strongest military alliance the world has ever known.'),\n",
              " Document(metadata={}, page_content='Mr. Prime Minister, welcome to NATO, the strongest military alliance the world has ever known. \\n\\nI say this to Congress: we must stand up to Putin. Send me the Bipartisan National Security Bill. \\n\\nHistory is watching. \\n\\nIf the United States walks away now, it will put Ukraine at risk. \\n\\nEurope at risk. The free world at risk, emboldening others who wish to do us harm. \\n \\n \\n\\nMy message to President Putin is simple.  \\n\\nWe will not walk away. We will not bow down. I will not bow down. \\n\\nHistory is watching, just like history watched three years ago on January 6th. \\n\\nInsurrectionists stormed this very Capitol and placed a dagger at the throat of American democracy. \\n\\nMany of you were here on that darkest of days. \\n\\nWe all saw with our own eyes these insurrectionists were not patriots. \\n \\n\\nThey had come to stop the peaceful transfer of power and to overturn the will of the people.'),\n",
              " Document(metadata={}, page_content='We all saw with our own eyes these insurrectionists were not patriots. \\n \\n\\nThey had come to stop the peaceful transfer of power and to overturn the will of the people. \\n\\nJanuary 6th and the lies about the 2020 election, and the plots to steal the election, posed the gravest threat to our democracy since the Civil War. \\n\\nBut they failed. America stood strong and democracy prevailed. \\n\\nBut we must be honest the threat remains and democracy must be defended. \\n\\nMy predecessor and some of you here seek to bury the truth of January 6th. \\n\\nI will not do that. \\n\\nThis is a moment to speak the truth and bury the lies. \\n\\nAnd here’s the simplest truth. You can’t love your country only when you win. \\n\\nAs I’ve done ever since being elected to office, I ask you all, without regard to party, to join together and defend our democracy! \\n\\nRemember your oath of office to defend against all threats foreign and domestic.'),\n",
              " Document(metadata={}, page_content='Remember your oath of office to defend against all threats foreign and domestic. \\n\\nRespect free and fair elections! Restore trust in our institutions! And make clear –political violence  \\n\\nhas absolutely no place in America! \\n\\nHistory is watching. \\n\\nAnd history is watching another assault on freedom.  \\n\\nJoining us tonight is Latorya Beasley, a social worker from Birmingham, Alabama. 14 months ago tonight, she and her husband welcomed a baby girl thanks to the miracle of IVF. \\n\\nShe scheduled treatments to have a second child, but the Alabama Supreme Court shut down IVF treatments across the state, unleashed by the Supreme Court decision overturning Roe v. Wade. \\n\\nShe was told her dream would have to wait. \\n\\nWhat her family has gone through should never have happened. And unless Congress acts, it could happen again. \\n\\nSo tonight, let’s stand up for families like hers! \\n\\nTo my friends across the aisle, don’t keep families waiting any longer. Guarantee the right to IVF nationwide!'),\n",
              " Document(metadata={}, page_content='So tonight, let’s stand up for families like hers! \\n\\nTo my friends across the aisle, don’t keep families waiting any longer. Guarantee the right to IVF nationwide! \\n\\nLike most Americans, I believe Roe v. Wade got it right. And I thank Vice President Harris for being an incredible leader, defending reproductive freedom and so much more. \\n\\nBut my predecessor came to office determined  \\n\\nto see Roe v. Wade overturned. \\n\\nHe’s the reason it was overturned. In fact, he brags about it. \\n\\nLook at the chaos that has resulted. \\n\\nJoining us tonight is Kate Cox, a wife and mother  \\n\\nfrom Dallas. \\n\\nWhen she became pregnant again, the fetus had a fatal condition. \\n\\nHer doctors told Kate that her own life and her ability to have children in the future were at risk if she didn’t act. \\n\\nBecause Texas law banned abortion, Kate and her husband had to leave the state to get the care she needed. \\n\\nWhat her family has gone through should never have happened as well. But it is happening to so many others.'),\n",
              " Document(metadata={}, page_content='What her family has gone through should never have happened as well. But it is happening to so many others. \\n\\nThere are state laws banning the right to choose, criminalizing doctors, and forcing survivors of rape and incest to leave their states as well to get the care they need. \\n\\nMany of you in this Chamber and my predecessor are promising to pass a national ban on reproductive freedom. \\n\\nMy God, what freedoms will you take away next? \\n\\nIn its decision to overturn Roe v. Wade the Supreme Court majority wrote, “Women are not without – \\n\\nelectoral or political power.” \\n\\nNo kidding. \\n\\nClearly, those bragging about overturning Roe v. Wade have no clue about the power of women in America. \\n\\nThey found out though when reproductive freedom   \\n\\nwas on the ballot and won in 2022, 2023, and they will find out again, in 2024. \\n\\nIf Americans send me a Congress that supports the right to choose, I promise you, I will restore Roe v. Wade as the law of the land again!'),\n",
              " Document(metadata={}, page_content='If Americans send me a Congress that supports the right to choose, I promise you, I will restore Roe v. Wade as the law of the land again! \\n\\nAmerica cannot go back. I am here tonight to show the way forward. Because I know how far we’ve come. \\n\\nFour years ago next week, before I came to office, our country was hit by the worst pandemic and the worst economic crisis in a century. \\n\\nRemember the fear. Record job losses. Remember the spike in crime. And the murder rate. \\n\\nA raging virus that would take more than 1 million American lives and leave millions of loved ones behind. \\n\\nA mental health crisis of isolation and loneliness. \\n\\nA president, my predecessor, who failed the most basic duty. Any President owes the American people the duty to care. \\n\\nThat is unforgivable. \\n\\nI came to office determined to get us through one of the toughest periods in our nation’s history.'),\n",
              " Document(metadata={}, page_content='That is unforgivable. \\n\\nI came to office determined to get us through one of the toughest periods in our nation’s history. \\n\\nAnd we have. It doesn’t make the news but in thousands of cities and towns the American people are writing the greatest comeback story never told. \\n\\nSo let’s tell that story here and now. \\n\\nAmerica’s comeback is building a future of American possibilities, building an economy from the middle out and the bottom up, not the top down, investing in all of America, in all Americans to make sure everyone has a fair shot and we leave no one behind! \\n\\nThe pandemic no longer controls our lives. The vaccines that saved us from COVID are now being used to help beat cancer. \\n\\nTurning setback into comeback. \\n\\nThat’s America! \\n\\nI inherited an economy that was on the brink. Now our economy is the envy of the world! \\n\\n15 million new jobs in just three years – that’s a record! \\n\\nUnemployment at 50-year lows.'),\n",
              " Document(metadata={}, page_content='That’s America! \\n\\nI inherited an economy that was on the brink. Now our economy is the envy of the world! \\n\\n15 million new jobs in just three years – that’s a record! \\n\\nUnemployment at 50-year lows. \\n\\nA record 16 million Americans are starting small businesses and each one is an act of hope. \\n\\nWith historic job growth and small business growth for Black, Hispanic, and Asian-Americans. \\n\\n800,000 new manufacturing jobs in America and counting. \\n\\nMore people have health insurance today than ever before. \\n\\nThe racial wealth gap is the smallest it’s been in 20 years. \\n\\nWages keep going up and inflation keeps coming down! \\n\\nInflation has dropped from 9% to 3% – the lowest in the world! \\n\\nAnd trending lower. \\n\\nAnd now instead of importing foreign products and exporting American jobs, we’re exporting American products and creating American jobs – right here in America where they belong! \\n \\n \\n\\nAnd the American people are beginning to feel it.'),\n",
              " Document(metadata={}, page_content='And the American people are beginning to feel it. \\n\\nConsumer studies show consumer confidence is soaring. \\n\\nBuy American has been the law of the land since the 1930s.  \\n \\n\\nPast administrations including my predecessor failed to Buy American. \\n\\nNot any more. \\n\\nOn my watch, federal projects like helping to build American roads bridges and highways will be made with American products built by American workers creating good-paying American jobs! \\n\\nThanks to my Chips and Science Act the United States is investing more in research and development than ever before. \\n\\nDuring the pandemic a shortage of semiconductor chips drove up prices for everything from cell phones to automobiles.  \\n\\nWell instead of having to import semiconductor chips, which America invented I might add, private companies are now investing billions of dollars to build new chip factories here in America! \\n\\nCreating tens of thousands of jobs many of them paying over $100,000 a year and don’t require a college degree.'),\n",
              " Document(metadata={}, page_content='Creating tens of thousands of jobs many of them paying over $100,000 a year and don’t require a college degree. \\n\\nIn fact my policies have attracted $650 Billion of private sector investments in clean energy and advanced manufacturing creating tens of thousands of jobs here in America! \\n\\nThanks to our Bipartisan Infrastructure Law, 46,000 new projects have been announced across your communities – modernizing our roads and bridges, ports and airports, and public transit systems. \\n\\nRemoving poisonous lead pipes so every child can drink clean water without risk of getting brain damage. \\n\\nProviding affordable high speed internet for every American no matter where you live. \\n\\nUrban, suburban, and rural communities — in red states and blue. \\n\\nRecord investments in tribal communities. \\n\\nBecause of my investments, family farms are better be able to stay in the family and children and grandchildren won’t have to leave home to make a living.  \\n\\nIt’s transformative.'),\n",
              " Document(metadata={}, page_content='Because of my investments, family farms are better be able to stay in the family and children and grandchildren won’t have to leave home to make a living.  \\n\\nIt’s transformative.  \\n\\n \\nA great comeback story is Belvidere, Illinois. Home to an auto plant for nearly 60 years.  \\n \\n\\nBefore I came to office the plant was on its way to shutting down. \\n\\n \\nThousands of workers feared for their livelihoods. Hope was fading. \\n \\n\\nThen I was elected to office and we raised Belvidere repeatedly with the auto company knowing unions make all the difference. \\n\\nThe UAW worked like hell to keep the plant open and get those jobs back. And together, we succeeded! \\n\\nInstead of an auto factory shutting down an auto factory is re-opening and a new state-of-the art battery factory is being built to power those cars. \\n\\nInstead of a town being left behind it’s a community moving forward again!'),\n",
              " Document(metadata={}, page_content='Instead of a town being left behind it’s a community moving forward again! \\n\\nBecause instead of watching auto jobs of the future go overseas 4,000 union workers with higher wages will be building that future, in Belvidere, here in America! \\n\\nHere tonight is UAW President, Shawn Fain, a great friend, and a great labor leader. \\n\\nAnd Dawn Simms, a third generation UAW worker  in Belvidere. \\n\\nShawn, I was proud to be the first President in American history to walk a picket line. \\n\\nAnd today Dawn has a job in her hometown providing stability for her family and pride and dignity. \\n\\nShowing once again, Wall Street didn’t build this country! \\n\\nThe middle class built this country! And unions built the middle class! \\n\\nWhen Americans get knocked down, we get back up! \\n\\nWe keep going! \\n\\nThat’s America! That’s you, the American people! \\n\\nIt’s because of you America is coming back!  \\n\\nIt’s because of you, our future is brighter!'),\n",
              " Document(metadata={}, page_content='We keep going! \\n\\nThat’s America! That’s you, the American people! \\n\\nIt’s because of you America is coming back!  \\n\\nIt’s because of you, our future is brighter! \\n\\nAnd it’s because of you that tonight we can proudly say the State of our Union is strong and getting stronger!  \\n \\n\\nTonight I want to talk about the future of possibilities that we can build together. \\n\\nA future where the days of trickle-down economics are over and the wealthy and biggest corporations no longer get all the breaks. \\n\\nI grew up in a home where not a lot trickled down on my Dad’s kitchen table. \\n\\nThat’s why I’m determined to turn things around so the middle class does well the poor have a way up and the wealthy still does well. \\n\\nWe all do well. \\n\\nAnd there’s more to do to make sure you’re feeling the benefits of all we’re doing. \\n\\nAmericans pay more for prescription drugs than anywhere else. \\n\\nIt’s wrong and I’m ending it.'),\n",
              " Document(metadata={}, page_content='We all do well. \\n\\nAnd there’s more to do to make sure you’re feeling the benefits of all we’re doing. \\n\\nAmericans pay more for prescription drugs than anywhere else. \\n\\nIt’s wrong and I’m ending it. \\n\\nWith a law I proposed and signed and not one Republican voted for we finally beat Big Pharma! \\n\\nInstead of paying $400 a month for insulin seniors with diabetes only have to pay $35 a month! \\n\\nAnd now I want to cap the cost of insulin at $35 a month for every American who needs it! \\n\\nFor years people have talked about it but I finally got it done and gave Medicare the power to negotiate lower prices for prescription drugs just like the VA does for our veterans. \\n\\nThat’s not just saving seniors money. \\n\\nIt’s saving taxpayers money cutting the federal deficit by $160 Billion because Medicare will no longer have to pay exorbitant prices to Big Pharma.'),\n",
              " Document(metadata={}, page_content='That’s not just saving seniors money. \\n\\nIt’s saving taxpayers money cutting the federal deficit by $160 Billion because Medicare will no longer have to pay exorbitant prices to Big Pharma. \\n\\nThis year Medicare is negotiating lower prices for some of the costliest drugs on the market that treat everything from heart disease to arthritis. \\n\\nNow it’s time to go further and give Medicare the power to negotiate lower prices for 500 drugs over the next decade. \\n\\nThat will not only save lives it will save taxpayers another $200 Billion! \\n\\nStarting next year that same law caps total prescription drug costs for seniors on Medicare at $2,000 a year even for expensive cancer drugs that can cost $10,000, $12,000, $15,000 a year. \\n\\nNow I want to cap prescription drug costs at $2,000 a year for everyone! \\n\\nFolks Obamacare, known as the Affordable Care Act is still a very big deal. \\n\\nOver one hundred million of you can no longer be denied health insurance because of pre-existing conditions.'),\n",
              " Document(metadata={}, page_content='Folks Obamacare, known as the Affordable Care Act is still a very big deal. \\n\\nOver one hundred million of you can no longer be denied health insurance because of pre-existing conditions. \\n\\nBut my predecessor and many in this chamber want to take that protection away by repealing the Affordable Care Act I won’t let that happen! \\n\\nWe stopped you 50 times before and we will stop you again! \\n\\nIn fact I am protecting it and expanding it. \\n\\nI enacted tax credits that save $800 per person per year reducing health care premiums for millions of working families. \\n\\nThose tax credits expire next year. \\n\\nI want to make those savings permanent! \\n\\nWomen are more than half of our population but research on women’s health has always been underfunded.  \\n\\nThat’s why we’re launching the first-ever White House Initiative on Women’s Health Research, led by Jill who is doing an incredible job as First Lady.'),\n",
              " Document(metadata={}, page_content='That’s why we’re launching the first-ever White House Initiative on Women’s Health Research, led by Jill who is doing an incredible job as First Lady. \\n\\nPass my plan for $12 Billion to transform women’s health research and benefit millions of lives across America! \\n\\nI know the cost of housing is so important to you.  \\n\\nIf inflation keeps coming down mortgage rates will come down as well. \\n\\nBut I’m not waiting. \\n\\nI want to provide an annual tax creditthat will give Americans $400 a month for the next two years as mortgage rates come down to put toward their mortgage when they buy a first home or trade up for a little more space. \\n\\nMy Administration is also eliminating title insurance fees for federally backed mortgages. \\n\\nWhen you refinance your home this can save you $1,000 or more. \\n\\nFor millions of renters, we’re cracking down on big landlords who break antitrust laws by price-fixing and driving up rents.'),\n",
              " Document(metadata={}, page_content='When you refinance your home this can save you $1,000 or more. \\n\\nFor millions of renters, we’re cracking down on big landlords who break antitrust laws by price-fixing and driving up rents.  \\n\\nI’ve cut red tape so more builders can get federal financing, which is already helping build a record 1.7 million housing units nationwide. \\n\\nNow pass my plan to build and renovate 2 million  affordable homes and bring those rents down! \\n\\nTo remain the strongest economy in the world we need the best education system in the world. \\n\\nI want to give every child a good start by providing access to pre-school for 3- and 4-year-olds. \\n\\nStudies show that children who go to pre-school are nearly 50% more likely to finish high school and go on to earn a 2- or 4-year degree no matter their background. \\n\\nI want to expand high-quality tutoring and summer learning time and see to it that every child learns to read by third grade.'),\n",
              " Document(metadata={}, page_content='I want to expand high-quality tutoring and summer learning time and see to it that every child learns to read by third grade. \\n\\nI’m also connecting businesses and high schools so students get hands-on experience and a path to a good-paying job whether or not they go to college. \\n\\nAnd I want to make college more affordable. \\n\\nLet’s continue increasing Pell Grants for working- and middle-class families and increase our record investments in HBCUs and Hispanic and Minority-serving Institutions \\n\\nI fixed student loan programs to reduce the burden  of student debt for nearly 4 Million Americans including nurses firefighters and others in public service like Keenan Jones a public-school educator in Minnesota who’s here with us tonight. \\n\\nHe’s educated hundreds of students so they can go to college now he can help his own daughter pay for college.  \\n\\nSuch relief is good for the economy because folks are now able to buy a home start a business even start a family.'),\n",
              " Document(metadata={}, page_content='Such relief is good for the economy because folks are now able to buy a home start a business even start a family. \\n\\nWhile we’re at it I want to give public school teachers a raise! \\n\\nNow let me speak to a question of fundamental fairness for all Americans. \\n\\nI’ve been delivering real results in a fiscally responsible way. \\n\\nI’ve already cut the federal deficit by over one trillion dollars. \\n\\nI signed a bipartisan budget deal that will cut another trillion dollars over the next decade. \\n\\nAnd now it’s my goal to cut the federal deficit $3 trillion more by making big corporations and the very wealthy finally pay their fair share.  \\n\\nLook, I’m a capitalist. \\n\\nIf you want to make a million bucks – great! \\n\\nJust pay your fair share in taxes. \\n\\nA fair tax code is how we invest in the things –  \\n\\nthat make a country great, health care, education, defense, and more. \\n\\nBut here’s the deal.'),\n",
              " Document(metadata={}, page_content='Just pay your fair share in taxes. \\n\\nA fair tax code is how we invest in the things –  \\n\\nthat make a country great, health care, education, defense, and more. \\n\\nBut here’s the deal. \\n\\nThe last administration enacted a $2 Trillion tax cut that overwhelmingly benefits the very wealthy and the biggest corporations and exploded the federal deficit. \\n\\nThey added more to the national debt than in any presidential term in American history. \\n\\nFor folks at home does anybody really think the tax code is fair? \\n\\nDo you really think the wealthy and big corporations need another $2 trillion in tax breaks? \\n\\nI sure don’t. I’m going to keep fighting like hell to make it fair! \\n\\nUnder my plan nobody earning less than $400,000 will pay an additional penny in federal taxes. \\n\\nNobody. Not one penny. \\n\\nIn fact the Child Tax Credit I passed during the pandemic cut taxes for millions of working families and cut child poverty in HALF.'),\n",
              " Document(metadata={}, page_content='Nobody. Not one penny. \\n\\nIn fact the Child Tax Credit I passed during the pandemic cut taxes for millions of working families and cut child poverty in HALF. \\n\\nRestore the Child Tax Credit because no child should go hungry in this country! \\n\\nThe way to make the tax code fair is to make big corporations and the very wealthy finally pay their share. \\n\\nIn 2020 55 of the biggest companies in America made $40 Billion in profits and paid zero in federal income taxes.  \\n\\nNot any more! \\n\\nThanks to the law I wrote and signed big companies  now have to pay a minimum of 15%.  \\n\\nBut that’s still less than working people pay in federal taxes. \\n\\nIt’s time to raise the corporate minimum tax to at least 21% so every big corporation finally begins to pay their fair share. \\n\\nI also want to end the tax breaks for Big Pharma, Big Oil, private jets, and massive executive pay! \\n\\nEnd it now! \\n\\nThere are 1,000 billionaires in America.'),\n",
              " Document(metadata={}, page_content='I also want to end the tax breaks for Big Pharma, Big Oil, private jets, and massive executive pay! \\n\\nEnd it now! \\n\\nThere are 1,000 billionaires in America.  \\n\\nYou know what the average federal tax rate for these billionaires is? 8.2 percent! \\n\\nThat’s far less than the vast majority of Americans pay.  \\n\\nNo billionaire should pay a lower tax rate than a teacher, a sanitation worker, a nurse! \\n\\nThat’s why I’ve proposed a minimum tax of 25% for billionaires. Just 25%. \\n\\nThat would raise $500 Billion over the next 10 years. \\n\\nImagine what that could do for America. Imagine a future with affordable child care so millions of families can get the care they need and still go to work and help grow the economy. \\n\\nImagine a future with paid leave because no one should have to choose between working and taking care of yourself or a sick family member.'),\n",
              " Document(metadata={}, page_content='Imagine a future with paid leave because no one should have to choose between working and taking care of yourself or a sick family member.   \\n\\nImagine a future with home care and elder care so seniors and people living with disabilities can stay in their homes and family caregivers get paid what they deserve! \\n\\nTonight, let’s all agree once again to stand up for seniors! \\n\\nMany of my Republican friends want to put Social Security on the chopping block.  \\n\\nIf anyone here tries to cut Social Security or Medicare or raise the retirement age I will stop them! \\n\\nWorking people who built this country pay more into Social Security than millionaires and billionaires do. It’s not fair. \\n\\nWe have two ways to go on Social Security. \\n\\nRepublicans will cut Social Security and give more tax cuts to the wealthy. \\n\\nI will protect and strengthen Social Security and make the wealthy pay their fair share!'),\n",
              " Document(metadata={}, page_content='Republicans will cut Social Security and give more tax cuts to the wealthy. \\n\\nI will protect and strengthen Social Security and make the wealthy pay their fair share! \\n\\nToo many corporations raise their prices to pad their profits charging you more and more for less and less. \\n\\nThat’s why we’re cracking down on corporations that engage in price gouging or deceptive pricing from food to health care to housing. \\n\\nIn fact, snack companies think you won’t notice when they charge you just as much for the same size bag  \\n\\nbut with fewer chips in it. \\n\\nPass Senator Bob Casey’s bill to put a stop to shrinkflation! \\n\\nI’m also getting rid of junk fees those hidden fees added at the end of your bills without your knowledge. My administration just announced we’re cutting credit card late fees from $32 to just $8. \\n\\nThe banks and credit card companies don’t like it. \\n\\nWhy? \\n\\nI’m saving American families $20 billion a year with all of the junk fees I’m eliminating. \\n\\nAnd I’m not stopping there.'),\n",
              " Document(metadata={}, page_content='The banks and credit card companies don’t like it. \\n\\nWhy? \\n\\nI’m saving American families $20 billion a year with all of the junk fees I’m eliminating. \\n\\nAnd I’m not stopping there. \\n\\nMy Administration has proposed rules to make cable travel utilities and online ticket sellers tell you the total price upfront so there are no surprises. \\n\\nIt matters. \\n\\nAnd so does this. \\n\\nIn November, my team began serious negotiations with a bipartisan group of Senators. \\n\\nThe result was a bipartisan bill with the toughest set of border security reforms we’ve ever seen  \\n\\nin this country. \\n\\nThat bipartisan deal would hire 1,500 more border security agents and officers.  \\n\\n100 more immigration judges to help tackle a backload of 2 million cases. \\n\\n4,300 more asylum officers and new policies so they can resolve cases in 6 months instead of 6 years. \\n\\n100 more high-tech drug detection machines to significantly increase the ability to screen and stop vehicles from smuggling fentanyl into America.'),\n",
              " Document(metadata={}, page_content='100 more high-tech drug detection machines to significantly increase the ability to screen and stop vehicles from smuggling fentanyl into America. \\n\\nThis bill would save lives and bring order to the border. \\n\\nIt would also give me as President new emergency authority to temporarily shut down the border  when the number of migrants at the border is overwhelming.  \\n\\nThe Border Patrol Union endorsed the bill. \\n\\nThe Chamber of Commerce endorsed the bill. \\n\\nI believe that given the opportunity a majority of the House and Senate would endorse it as well. \\n\\nBut unfortunately, politics have derailed it so far. \\n\\nI’m told my predecessor called Republicans in Congress and demanded they block the bill. He feels it would be a political win for me and a political loser for him. \\n\\nIt’s not about him or me.  \\n\\nIt’d be a winner for America! \\n\\nMy Republican friends you owe it to the American people to get this bill done.   \\n\\nWe need to act.'),\n",
              " Document(metadata={}, page_content='It’s not about him or me.  \\n\\nIt’d be a winner for America! \\n\\nMy Republican friends you owe it to the American people to get this bill done.   \\n\\nWe need to act. \\n\\nAnd if my predecessor is watching instead of playing politics and pressuring members of Congress to block this bill, join me in telling Congress to pass it! \\n\\nWe can do it together. But here’s what I will not do. \\n\\nI will not demonize immigrants saying they “poison the blood of our country” as he said in his own words. \\n\\nI will not separate families. \\n\\nI will not ban people from America because of their faith. \\n\\nUnlike my predecessor, on my first day in office I introduced a comprehensive plan to fix our immigration system, secure the border, and provide a pathway to citizenship for Dreamers and so much more. \\n\\nBecause unlike my predecessor, I know who we are  \\n\\nas Americans. \\n\\nWe are the only nation in the world with a heart and soul that draws from old and new.'),\n",
              " Document(metadata={}, page_content='Because unlike my predecessor, I know who we are  \\n\\nas Americans. \\n\\nWe are the only nation in the world with a heart and soul that draws from old and new. \\n\\nHome to Native Americans whose ancestors have been here for thousands of years. Home to people from every place on Earth. \\n\\nSome came freely. \\n\\nSome chained by force. \\n\\nSome when famine struck, like my ancestral family in Ireland. \\n\\nSome to flee persecution. \\n\\nSome to chase dreams that are impossible anywhere but here in America. \\n\\nThat’s America, where we all come from somewhere, but we are all Americans. \\n\\nWe can fight about the border, or we can fix it. I’m ready to fix it. \\n\\nSend me the border bill now! \\n\\nA transformational moment in our history happened 59 years ago today in Selma, Alabama. \\n\\nHundreds of foot soldiers for justice marched across the Edmund Pettus Bridge, named after a Grand Dragon of the KKK, to claim their fundamental right to vote.  \\n\\nThey were beaten bloodied and left for dead.'),\n",
              " Document(metadata={}, page_content='They were beaten bloodied and left for dead. \\n\\nOur late friend and former colleague John Lewis was at the march.  \\n\\nWe miss him. \\n\\nJoining us tonight are other marchers who were there including Betty May Fikes, known as the “Voice of Selma”. \\n\\nA daughter of gospel singers and preachers, she sang songs of prayer and protest on that Bloody Sunday, \\n\\nto help shake the nation’s conscience. Five months later, the Voting Rights Act was signed into law.   \\n \\n\\nBut 59 years later, there are forces taking us back in time. \\n\\nVoter suppression. Election subversion. Unlimited dark money. Extreme gerrymandering.  \\n\\nJohn Lewis was a great friend to many of us here. But if you truly want to honor him and all the heroes who marched with him, then it’s time for more than just talk. \\n\\nPass and send me the Freedom to Vote Act and the John Lewis Voting Rights Act! \\n\\nAnd stop denying another core value of America our diversity across American life. \\n\\nBanning books. \\n\\nIt’s wrong!'),\n",
              " Document(metadata={}, page_content='Pass and send me the Freedom to Vote Act and the John Lewis Voting Rights Act! \\n\\nAnd stop denying another core value of America our diversity across American life. \\n\\nBanning books. \\n\\nIt’s wrong! \\n\\nInstead of erasing history, let’s make history!  \\n\\nI want to protect other fundamental rights! \\n\\nPass the Equality Act, and my message to transgender Americans: I have your back! \\n\\nPass the PRO Act for workers rights! And raise the federal minimum wage because every worker has the right to earn a decent living! \\n\\nWe are also making history by confronting the climate crisis, not denying it. \\n\\nI’m taking the most significant action on climate ever in the history of the world. \\n\\nI am cutting our carbon emissions in half by 2030. \\n\\nCreating tens of thousands of clean-energy jobs, like the IBEW workers building and installing 500,000 electric vehicle charging stations. \\n\\nConserving 30% of America’s lands and waters  by 2030.'),\n",
              " Document(metadata={}, page_content='Creating tens of thousands of clean-energy jobs, like the IBEW workers building and installing 500,000 electric vehicle charging stations. \\n\\nConserving 30% of America’s lands and waters  by 2030. \\n\\nTaking historic action on environmental justice for fence-line communities smothered by the legacy of pollution.  \\n\\nAnd patterned after the Peace Corps and Ameri Corps, I’ve launched a Climate Corps to put 20,000 young people to work at the forefront of our clean energy future. \\n\\nI’ll triple that number this decade. \\n\\nAll Americans deserve the freedom to be safe, and America is safer today than when I took office. \\n\\nThe year before I took office, murders went up 30% nationwide the biggest increase in history. \\n\\nThat was then. \\n\\nNow, through my American Rescue Plan, which every Republican voted against, I’ve made the largest investment in public safety ever.'),\n",
              " Document(metadata={}, page_content='That was then. \\n\\nNow, through my American Rescue Plan, which every Republican voted against, I’ve made the largest investment in public safety ever. \\n\\nLast year, the murder rate saw the sharpest decrease in history, and violent crime fell to one of the lowest levels in more than 50 years.  \\n\\nBut we have more to do. \\n\\nHelp cities and towns invest in more community police officers, more mental health workers, and more community violence intervention.  \\n\\nGive communities the tools to crack down on gun crime, retail crime, and carjacking. \\n\\nKeep building public trust, as I’ve been doing by taking executive action on police reform, and calling for it to be the law of the land, directing my Cabinet to review the federal classification of marijuana, and expunging thousands of convictions  for mere possession, because no one should be jailed for using or possessing marijuana!'),\n",
              " Document(metadata={}, page_content='To take on crimes of domestic violence, I am ramping up federal enforcement of the Violence Against Women Act, that I proudly wrote, so we can finally end the scourge of violence against women in America!  \\n\\nAnd there’s another kind of violence I want to stop. \\n\\nWith us tonight is Jasmine, whose 9-year-old sister Jackie was murdered with 21 classmates and teachers at her elementary school in Uvalde, Texas. \\n\\nSoon after it happened, Jill and I went to Uvalde and spent hours with the families. \\n\\nWe heard their message, and so should everyone in this chamber do something. \\n\\nI did do something by establishing the first-ever Office of Gun Violence Prevention in the White House that Vice President Harris is leading. \\n\\nMeanwhile, my predecessor told the NRA he’s proud he did nothing on guns when he was President. \\n\\nAfter another school shooting in Iowa he said we should just “get over it.” \\n\\nI say we must stop it.'),\n",
              " Document(metadata={}, page_content='Meanwhile, my predecessor told the NRA he’s proud he did nothing on guns when he was President. \\n\\nAfter another school shooting in Iowa he said we should just “get over it.” \\n\\nI say we must stop it.  \\n\\nI’m proud we beat the NRA when I signed the most significant gun safety law in nearly 30 years! \\n\\nNow we must beat the NRA again! \\n\\nI’m demanding a ban on assault weapons and high-capacity magazines! \\n\\nPass universal background checks! \\n\\nNone of this violates the Second Amendment or vilifies responsible gun owners. \\n\\nAs we manage challenges at home, we’re also managing crises abroad including in the Middle East. \\n\\nI know the last five months have been gut-wrenching for so many people, for the Israeli people, the Palestinian people, and so many here in America. \\n\\nThis crisis began on October 7th with a massacre by the terrorist group Hamas. \\n\\n1,200 innocent people women and girls men and boys slaughtered, many enduring sexual violence.'),\n",
              " Document(metadata={}, page_content='This crisis began on October 7th with a massacre by the terrorist group Hamas. \\n\\n1,200 innocent people women and girls men and boys slaughtered, many enduring sexual violence. \\n\\nThe deadliest day for the Jewish people since the Holocaust. \\n\\n250 hostages taken. \\n\\nHere in the chamber tonight are American families whose loved ones are still being held by Hamas. \\n\\nI pledge to all the families that we will not rest until we bring their loved ones home. \\n\\nWe will also work around the clock to bring home Evan and Paul, Americans being unjustly detained all around the world. \\n\\nIsrael has a right to go after Hamas. \\n\\nHamas could end this conflict today by releasing the hostages, laying down arms, and surrendering those responsible for October 7th. \\n\\nIsrael has an added burden because Hamas hides and operates among the civilian population. But Israel also has a fundamental responsibility to protect innocent civilians in Gaza.'),\n",
              " Document(metadata={}, page_content='Israel has an added burden because Hamas hides and operates among the civilian population. But Israel also has a fundamental responsibility to protect innocent civilians in Gaza. \\n\\nThis war has taken a greater toll on innocent civilians than all previous wars in Gaza combined. \\n\\nMore than 30,000 Palestinians have been killed. \\n\\nMost of whom are not Hamas. \\n\\nThousands and thousands are innocent women and children. \\n\\nGirls and boys also orphaned. \\n\\nNearly 2 million more Palestinians under bombardment or displaced. \\n\\nHomes destroyed, neighborhoods in rubble, cities in ruin. \\n\\nFamilies without food, water, medicine. \\n\\nIt’s heartbreaking. \\n\\nWe’ve been working non-stop to establish an immediate ceasefire that would last for at least six weeks. \\n\\nIt would get the hostages home, ease the intolerable humanitarian crisis, and build toward something more enduring. \\n\\nThe United States has been leading international efforts to get more humanitarian assistance into Gaza.'),\n",
              " Document(metadata={}, page_content='The United States has been leading international efforts to get more humanitarian assistance into Gaza. \\n\\nTonight, I’m directing the U.S. military to lead an emergency mission to establish a temporary pier in the Mediterranean on the Gaza coast that can receive large ships carrying food, water, medicine and temporary shelters. \\n\\nNo U.S. boots will be on the ground. \\n\\nThis temporary pier would enable a massive increase in the amount of humanitarian assistance getting into Gaza every day. \\n\\nBut Israel must also do its part. \\n\\nIsrael must allow more aid into Gaza and ensure that humanitarian workers aren’t caught in the cross fire. \\n\\nTo the leadership of Israel I say this. \\n\\nHumanitarian assistance cannot be a secondary consideration or a bargaining chip. \\n\\nProtecting and saving innocent lives has to be a priority. \\n\\nAs we look to the future, the only real solution is a two-state solution.'),\n",
              " Document(metadata={}, page_content='Protecting and saving innocent lives has to be a priority. \\n\\nAs we look to the future, the only real solution is a two-state solution. \\n\\nI say this as a lifelong supporter of Israel and the only American president to visit Israel in wartime. \\n\\nThere is no other path that guarantees Israel’s security and democracy. \\n\\nThere is no other path that guarantees Palestinians can live with peace and dignity. \\n\\nThere is no other path that guarantees peace between Israel and all of its Arab neighbors, including Saudi Arabia.  \\n\\nCreating stability in the Middle East also means containing the threat posed by Iran.  \\n\\nThat’s why I built a coalition of more than a dozen countries to defend international shipping and freedom of navigation in the Red Sea. \\n\\nI’ve ordered strikes to degrade Houthi capabilities and defend U.S. Forces in the region. \\n\\nAs Commander in Chief, I will not hesitate to direct further measures to protect our people and military personnel.'),\n",
              " Document(metadata={}, page_content='As Commander in Chief, I will not hesitate to direct further measures to protect our people and military personnel.  \\n\\nFor years, all I’ve heard from my Republican friends and so many others is China’s on the rise and America is falling behind. \\n\\nThey’ve got it backward. \\n\\nAmerica is rising. \\n\\nWe have the best economy in the world. \\n\\nSince I’ve come to office, our GDP is up. \\n\\nAnd our trade deficit with China is down to the lowest point in over a decade. \\n\\nWe’re standing up against China’s unfair economic practices. \\n\\nAnd standing up for peace and stability across the Taiwan Strait. \\n\\nI’ve revitalized our partnerships and alliances in the Pacific. \\n\\nI’ve made sure that the most advanced American technologies can’t be used in China’s weapons. \\n\\nFrankly for all his tough talk on China, it never occurred to my predecessor to do that. \\n\\nWe want competition with China, but not conflict.'),\n",
              " Document(metadata={}, page_content='Frankly for all his tough talk on China, it never occurred to my predecessor to do that. \\n\\nWe want competition with China, but not conflict.  \\n\\nAnd we’re in a stronger position to win the competition for the 21st Century against China or anyone else for that matter. \\n\\nHere at home I’ve signed over 400 bipartisan bills.  \\n\\nBut there’s more to do to pass my Unity Agenda. \\n\\nStrengthen penalties on fentanyl trafficking. \\n\\nPass bipartisan privacy legislation to protect our children online. \\n\\nHarness the promise of A.I. and protect us from its peril.  \\n\\nBan A.I. voice impersonation and more! \\n\\nAnd keep our one truly sacred obligation, to train and equip those we send into harm’s way and care for them and their families when they come home, and when they don’t.  \\n\\nThat’s why I signed the PACT Act, one of the most significant laws ever, helping millions of veterans who were exposed to toxins and who now are battling more than 100 cancers. \\n\\nMany of them didn’t come home.'),\n",
              " Document(metadata={}, page_content='Many of them didn’t come home. \\n\\nWe owe them and their families. \\n\\nAnd we owe it to ourselves to keep supporting our new health research agency called ARPA-H and remind us that we can do big things like end cancer as we know it! \\n\\nLet me close with this. \\n\\nI know I may not look like it, but I’ve been around a while. \\n\\nAnd when you get to my age certain things become clearer than ever before. \\n\\nI know the American story. \\n\\nAgain and again I’ve seen the contest between competing forces in the battle for the soul of our nation. \\n\\nBetween those who want to pull America back to the past and those who want to move America into the future. \\n\\nMy lifetime has taught me to embrace freedom and democracy. \\n\\nA future based on the core values that have defined America. \\n\\nHonesty. Decency. Dignity. Equality. \\n\\nTo respect everyone. To give everyone a fair shot. To give hate no safe harbor.  \\n\\nNow some other people my age see a different story.'),\n",
              " Document(metadata={}, page_content='Honesty. Decency. Dignity. Equality. \\n\\nTo respect everyone. To give everyone a fair shot. To give hate no safe harbor.  \\n\\nNow some other people my age see a different story.  \\n\\nAn American story of resentment, revenge, and retribution. \\n\\nThat’s not me. \\n\\nI was born amid World War II when America stood for freedom in the world. \\n\\nI grew up in Scranton, Pennsylvania and Claymont, Delaware among working people who built this country. \\n\\nI watched in horror as two of my heroes, Dr. King and Bobby Kennedy, were assassinated and their legacies inspired me to pursue a career in service. \\n\\nA public defender, county councilman, elected United States Senator at 29, then Vice President, to our first Black President, now President, with our first woman Vice President. \\n\\nIn my career I’ve been told I’m too young and I’m too old. \\n\\nWhether young or old, I’ve always known what endures. \\n\\nOur North Star.'),\n",
              " Document(metadata={}, page_content='In my career I’ve been told I’m too young and I’m too old. \\n\\nWhether young or old, I’ve always known what endures. \\n\\nOur North Star. \\n\\nThe very idea of America, that we are all created equal and deserve to be treated equally throughout our lives. \\n\\nWe’ve never fully lived up to that idea, but we’ve never walked away from it either. \\n\\nAnd I won’t walk away from it now. \\n\\nMy fellow Americans the issue facing our nation isn’t how old we are it’s how old our ideas are? \\n\\nHate, anger, revenge, retribution are among the oldest of ideas. \\n\\nBut you can’t lead America with ancient ideas that only take us back. \\n\\nTo lead America, the land of possibilities, you need a vision for the future of what America can and should be. \\n\\nTonight you’ve heard mine. \\n\\nI see a future where we defend democracy not diminish it. \\n\\nI see a future where we restore the right to choose and protect other freedoms not take them away.'),\n",
              " Document(metadata={}, page_content='Tonight you’ve heard mine. \\n\\nI see a future where we defend democracy not diminish it. \\n\\nI see a future where we restore the right to choose and protect other freedoms not take them away. \\n\\nI see a future where the middle class finally has a fair shot and the wealthy finally have to pay their fair share in taxes. \\n\\nI see a future where we save the planet from the climate crisis and our country from gun violence. \\n\\nAbove all, I see a future for all Americans! \\n\\nI see a country for all Americans! \\n\\nAnd I will always be a president for all Americans! \\n\\nBecause I believe in America! \\n\\nI believe in you the American people. \\n\\nYou’re the reason I’ve never been more optimistic about our future! \\n\\nSo let’s build that future together! \\n\\nLet’s remember who we are! \\n\\nWe are the United States of America. \\n\\nThere is nothing beyond our capacity when we act together! \\n\\nMay God bless you all. \\n\\nMay God protect our troops.\\n\\n###')]"
            ]
          },
          "metadata": {},
          "execution_count": 13
        }
      ]
    },
    {
      "cell_type": "code",
      "source": [
        "num_documents = len(text)\n",
        "print(f\"Number of documents: {num_documents}\")"
      ],
      "metadata": {
        "colab": {
          "base_uri": "https://localhost:8080/"
        },
        "id": "6tqs35IFcUbP",
        "outputId": "70a0257c-788b-459f-dc4c-38eab60adb91"
      },
      "execution_count": null,
      "outputs": [
        {
          "output_type": "stream",
          "name": "stdout",
          "text": [
            "Number of documents: 48\n"
          ]
        }
      ]
    },
    {
      "cell_type": "markdown",
      "source": [
        "### **5. Save the document in vectorstore**"
      ],
      "metadata": {
        "id": "2b4XX-m2c5ja"
      }
    },
    {
      "cell_type": "code",
      "source": [
        "ids = vector_store.add_documents(text)"
      ],
      "metadata": {
        "id": "c1LFSoeYcuIO"
      },
      "execution_count": null,
      "outputs": []
    },
    {
      "cell_type": "code",
      "source": [
        "len(ids)"
      ],
      "metadata": {
        "colab": {
          "base_uri": "https://localhost:8080/"
        },
        "id": "ORSYQn7UdGom",
        "outputId": "60c28d49-9ee8-47a1-f60c-905928c3e1b8"
      },
      "execution_count": null,
      "outputs": [
        {
          "output_type": "execute_result",
          "data": {
            "text/plain": [
              "48"
            ]
          },
          "metadata": {},
          "execution_count": 17
        }
      ]
    },
    {
      "cell_type": "markdown",
      "source": [
        "### **6. Sematic Searching using VectorDB**"
      ],
      "metadata": {
        "id": "QE4t2fY8dZZK"
      }
    },
    {
      "cell_type": "code",
      "source": [
        "# Query with the vectorstore\n",
        "results = vector_store.similarity_search(\n",
        "    \"Who invaded Ukraine?\",\n",
        "    k = 2 # No of results that I'm expecting\n",
        ")"
      ],
      "metadata": {
        "id": "tpBkCzCLdHuF"
      },
      "execution_count": null,
      "outputs": []
    },
    {
      "cell_type": "code",
      "source": [
        "results"
      ],
      "metadata": {
        "colab": {
          "base_uri": "https://localhost:8080/"
        },
        "id": "lUFC6VD4fRHI",
        "outputId": "f6d6e299-db27-4085-ebc4-888235a50c2a"
      },
      "execution_count": null,
      "outputs": [
        {
          "output_type": "execute_result",
          "data": {
            "text/plain": [
              "[Document(id='2049b1bb-02df-4460-a6be-226d81a108bf', metadata={}, page_content='And yes, my purpose tonight is to both wake up this Congress, and alert the American people that this is no ordinary moment either. \\n\\nNot since President Lincoln and the Civil War have freedom and democracy been under assault here at home as they are today. \\n\\nWhat makes our moment rare is that freedom and democracy are under attack, both at home and overseas, at the very same time. \\n\\nOverseas, Putin of Russia is on the march, invading Ukraine and sowing chaos throughout Europe and beyond. \\n\\nIf anybody in this room thinks Putin will stop at Ukraine, I assure you, he will not. \\n\\nBut Ukraine can stop Putin if we stand with Ukraine and provide the weapons it needs to defend itself. That is all Ukraine is asking. They are not asking for American soldiers. \\n\\nIn fact, there are no American soldiers at war in Ukraine. And I am determined to keep it that way. \\n\\nBut now assistance for Ukraine is being blocked by those who want us to walk away from our leadership in the world.'),\n",
              " Document(id='94f8634e-1718-422c-9de7-f1f1febcdb76', metadata={}, page_content='Mr. Prime Minister, welcome to NATO, the strongest military alliance the world has ever known. \\n\\nI say this to Congress: we must stand up to Putin. Send me the Bipartisan National Security Bill. \\n\\nHistory is watching. \\n\\nIf the United States walks away now, it will put Ukraine at risk. \\n\\nEurope at risk. The free world at risk, emboldening others who wish to do us harm. \\n \\n \\n\\nMy message to President Putin is simple.  \\n\\nWe will not walk away. We will not bow down. I will not bow down. \\n\\nHistory is watching, just like history watched three years ago on January 6th. \\n\\nInsurrectionists stormed this very Capitol and placed a dagger at the throat of American democracy. \\n\\nMany of you were here on that darkest of days. \\n\\nWe all saw with our own eyes these insurrectionists were not patriots. \\n \\n\\nThey had come to stop the peaceful transfer of power and to overturn the will of the people.')]"
            ]
          },
          "metadata": {},
          "execution_count": 22
        }
      ]
    },
    {
      "cell_type": "code",
      "source": [
        "count = 1\n",
        "for x in results:\n",
        "\n",
        "  print(f\"Results {count}: \\n{x.page_content}[Location: {x.id}]\")\n",
        "  print(\"-----------------------_\")\n",
        "  count += 1"
      ],
      "metadata": {
        "colab": {
          "base_uri": "https://localhost:8080/"
        },
        "id": "lToUSCsKeAIm",
        "outputId": "8c11b2fc-1e64-4692-af8b-b1d267462495"
      },
      "execution_count": null,
      "outputs": [
        {
          "output_type": "stream",
          "name": "stdout",
          "text": [
            "Results 1: \n",
            "And yes, my purpose tonight is to both wake up this Congress, and alert the American people that this is no ordinary moment either. \n",
            "\n",
            "Not since President Lincoln and the Civil War have freedom and democracy been under assault here at home as they are today. \n",
            "\n",
            "What makes our moment rare is that freedom and democracy are under attack, both at home and overseas, at the very same time. \n",
            "\n",
            "Overseas, Putin of Russia is on the march, invading Ukraine and sowing chaos throughout Europe and beyond. \n",
            "\n",
            "If anybody in this room thinks Putin will stop at Ukraine, I assure you, he will not. \n",
            "\n",
            "But Ukraine can stop Putin if we stand with Ukraine and provide the weapons it needs to defend itself. That is all Ukraine is asking. They are not asking for American soldiers. \n",
            "\n",
            "In fact, there are no American soldiers at war in Ukraine. And I am determined to keep it that way. \n",
            "\n",
            "But now assistance for Ukraine is being blocked by those who want us to walk away from our leadership in the world.[Location: 2049b1bb-02df-4460-a6be-226d81a108bf]\n",
            "-----------------------_\n",
            "Results 2: \n",
            "Mr. Prime Minister, welcome to NATO, the strongest military alliance the world has ever known. \n",
            "\n",
            "I say this to Congress: we must stand up to Putin. Send me the Bipartisan National Security Bill. \n",
            "\n",
            "History is watching. \n",
            "\n",
            "If the United States walks away now, it will put Ukraine at risk. \n",
            "\n",
            "Europe at risk. The free world at risk, emboldening others who wish to do us harm. \n",
            " \n",
            " \n",
            "\n",
            "My message to President Putin is simple.  \n",
            "\n",
            "We will not walk away. We will not bow down. I will not bow down. \n",
            "\n",
            "History is watching, just like history watched three years ago on January 6th. \n",
            "\n",
            "Insurrectionists stormed this very Capitol and placed a dagger at the throat of American democracy. \n",
            "\n",
            "Many of you were here on that darkest of days. \n",
            "\n",
            "We all saw with our own eyes these insurrectionists were not patriots. \n",
            " \n",
            "\n",
            "They had come to stop the peaceful transfer of power and to overturn the will of the people.[Location: 94f8634e-1718-422c-9de7-f1f1febcdb76]\n",
            "-----------------------_\n"
          ]
        }
      ]
    },
    {
      "cell_type": "markdown",
      "source": [
        "## **RAG Pipeline**"
      ],
      "metadata": {
        "id": "GcgA_oxWe26D"
      }
    },
    {
      "cell_type": "markdown",
      "source": [
        "### **Converting into strings**"
      ],
      "metadata": {
        "id": "Fpp4AIFDhKHX"
      }
    },
    {
      "cell_type": "code",
      "source": [
        "# Function for parsing these documents into string\n",
        "def format_docs(docs):\n",
        "  return \"\\n\\n\".join(x.page_content for x in docs)"
      ],
      "metadata": {
        "id": "Af4G7q-qeJes"
      },
      "execution_count": null,
      "outputs": []
    },
    {
      "cell_type": "markdown",
      "source": [
        "### **Retriever Function**"
      ],
      "metadata": {
        "id": "6KxhXQXCf3f4"
      }
    },
    {
      "cell_type": "code",
      "source": [
        "# IF I WANT TO SETUP A RETRIVER, WHAT WILL BE MY SOURCE\n",
        "retriver = vector_store.as_retriever()"
      ],
      "metadata": {
        "id": "FQedrnHDf2pQ"
      },
      "execution_count": null,
      "outputs": []
    },
    {
      "cell_type": "markdown",
      "source": [
        "### **LLM Instance**"
      ],
      "metadata": {
        "id": "SIJOrLO4gqED"
      }
    },
    {
      "cell_type": "code",
      "source": [
        "llm = ChatOpenAI(model = \"gpt-4o-mini\")"
      ],
      "metadata": {
        "id": "BIAEIatDgPwA"
      },
      "execution_count": null,
      "outputs": []
    },
    {
      "cell_type": "code",
      "source": [
        "llm"
      ],
      "metadata": {
        "colab": {
          "base_uri": "https://localhost:8080/"
        },
        "id": "t_pqXVnDgwAN",
        "outputId": "612ba919-6d63-4ee6-b18a-902835354842"
      },
      "execution_count": null,
      "outputs": [
        {
          "output_type": "execute_result",
          "data": {
            "text/plain": [
              "ChatOpenAI(client=<openai.resources.chat.completions.Completions object at 0x7cffde1ca910>, async_client=<openai.resources.chat.completions.AsyncCompletions object at 0x7cffddbcdfd0>, root_client=<openai.OpenAI object at 0x7cffde128d10>, root_async_client=<openai.AsyncOpenAI object at 0x7cffddaaf5d0>, model_name='gpt-4o-mini', model_kwargs={}, openai_api_key=SecretStr('**********'))"
            ]
          },
          "metadata": {},
          "execution_count": 29
        }
      ]
    },
    {
      "cell_type": "markdown",
      "source": [
        "### **Building the Prompt**"
      ],
      "metadata": {
        "id": "2BV0SPumhbII"
      }
    },
    {
      "cell_type": "code",
      "source": [
        "template = \"\"\"Use the context provided to answer the user's question. If you don't know the answer based on context provided, tell the user you don't know the answer based on the context and that you are sorry.\n",
        "\n",
        "context: {context}\n",
        "\n",
        "question: {query}\n",
        "\n",
        "answer:\n",
        "\"\"\""
      ],
      "metadata": {
        "id": "E39Jsc0Bg_B0"
      },
      "execution_count": null,
      "outputs": []
    },
    {
      "cell_type": "code",
      "source": [
        "# Create a template\n",
        "custom_rag_template = PromptTemplate.from_template(template)"
      ],
      "metadata": {
        "id": "sQZjtbw0iP08"
      },
      "execution_count": null,
      "outputs": []
    },
    {
      "cell_type": "code",
      "source": [
        "custom_rag_template"
      ],
      "metadata": {
        "colab": {
          "base_uri": "https://localhost:8080/"
        },
        "id": "Is7cuAlfiV_w",
        "outputId": "6433fb10-e294-4092-b413-cd5ca215aaa9"
      },
      "execution_count": null,
      "outputs": [
        {
          "output_type": "execute_result",
          "data": {
            "text/plain": [
              "PromptTemplate(input_variables=['context', 'query'], input_types={}, partial_variables={}, template=\"Use the context provided to answer the user's question. If you don't know the answer based on context provided, tell the user you don't know the answer based on the context and that you are sorry.\\n\\ncontext: {context} \\n \\nquestion: {query}\\n\\nanswer: \\n\")"
            ]
          },
          "metadata": {},
          "execution_count": 34
        }
      ]
    },
    {
      "cell_type": "markdown",
      "source": [
        "### **Chain these all together**"
      ],
      "metadata": {
        "id": "Ay0V8P1tk3nB"
      }
    },
    {
      "cell_type": "code",
      "source": [
        "rag_chain = (\n",
        "    {\"context\": retriver | format_docs, \"query\" : RunnablePassthrough()}\n",
        "    | custom_rag_template\n",
        "    | llm\n",
        "    | StrOutputParser()\n",
        ")"
      ],
      "metadata": {
        "id": "_uFZWqZviXV2"
      },
      "execution_count": null,
      "outputs": []
    },
    {
      "cell_type": "markdown",
      "source": [
        "### **Test the chain**"
      ],
      "metadata": {
        "id": "hVq-0VXvl85I"
      }
    },
    {
      "cell_type": "code",
      "source": [
        "rag_chain.invoke(\"Who invaded Ukraine?\")"
      ],
      "metadata": {
        "colab": {
          "base_uri": "https://localhost:8080/",
          "height": 35
        },
        "id": "EWqvIBM0l387",
        "outputId": "57454d15-8b30-4243-ccd3-d625da98f364"
      },
      "execution_count": null,
      "outputs": [
        {
          "output_type": "execute_result",
          "data": {
            "text/plain": [
              "'Putin of Russia invaded Ukraine.'"
            ],
            "application/vnd.google.colaboratory.intrinsic+json": {
              "type": "string"
            }
          },
          "metadata": {},
          "execution_count": 36
        }
      ]
    },
    {
      "cell_type": "code",
      "source": [
        "rag_chain.invoke(\"Who is Prasanta?\")"
      ],
      "metadata": {
        "colab": {
          "base_uri": "https://localhost:8080/",
          "height": 35
        },
        "id": "zKg15PIamFZa",
        "outputId": "d13095e5-c356-42be-a599-d13dae786d88"
      },
      "execution_count": null,
      "outputs": [
        {
          "output_type": "execute_result",
          "data": {
            "text/plain": [
              "\"I'm sorry, but I don't know the answer to your question about Prasanta based on the context provided.\""
            ],
            "application/vnd.google.colaboratory.intrinsic+json": {
              "type": "string"
            }
          },
          "metadata": {},
          "execution_count": 37
        }
      ]
    },
    {
      "cell_type": "code",
      "source": [
        "rag_chain.invoke(\"Summarize the whole document\")"
      ],
      "metadata": {
        "colab": {
          "base_uri": "https://localhost:8080/",
          "height": 125
        },
        "id": "hIpIBNetmPlS",
        "outputId": "623bd350-f57e-4d74-df9d-9ef95927d45c"
      },
      "execution_count": null,
      "outputs": [
        {
          "output_type": "execute_result",
          "data": {
            "text/plain": [
              "'In his State of the Union address delivered on March 7, 2024, President Joe Biden reflects on the historical significance of the moment, drawing parallels to past challenges the nation has faced, such as World War II. He emphasizes that the current moment is also unprecedented, requiring action and unity among Congress and the American people. Biden proclaims that the state of the union is strong and is improving, advocating for an end to trickle-down economics and calling for better benefits for the middle class while ensuring fairness for all. He addresses the high cost of prescription drugs, asserting that it must change. The president stresses the importance of honesty, decency, and defending democracy, particularly in light of the January 6th insurrection, which he describes as a grave threat to democracy. He calls for bipartisan cooperation to protect democratic values, urging all to remember their oath to defend the nation against both foreign and domestic threats.'"
            ],
            "application/vnd.google.colaboratory.intrinsic+json": {
              "type": "string"
            }
          },
          "metadata": {},
          "execution_count": 38
        }
      ]
    },
    {
      "cell_type": "code",
      "source": [],
      "metadata": {
        "id": "m-J1WacImYCD"
      },
      "execution_count": null,
      "outputs": []
    }
  ]
}